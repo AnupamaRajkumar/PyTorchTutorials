{
  "nbformat": 4,
  "nbformat_minor": 0,
  "metadata": {
    "colab": {
      "name": "ImageRecognitionUsingMNIST.ipynb",
      "provenance": [],
      "authorship_tag": "ABX9TyNGEMTWMDWY7DeLGw3HkGu1",
      "include_colab_link": true
    },
    "kernelspec": {
      "name": "python3",
      "display_name": "Python 3"
    },
    "language_info": {
      "name": "python"
    }
  },
  "cells": [
    {
      "cell_type": "markdown",
      "metadata": {
        "id": "view-in-github",
        "colab_type": "text"
      },
      "source": [
        "<a href=\"https://colab.research.google.com/github/AnupamaRajkumar/PyTorchTutorials/blob/main/ImageRecognitionUsingMNIST.ipynb\" target=\"_parent\"><img src=\"https://colab.research.google.com/assets/colab-badge.svg\" alt=\"Open In Colab\"/></a>"
      ]
    },
    {
      "cell_type": "markdown",
      "metadata": {
        "id": "18U6CXyhSk1P"
      },
      "source": [
        "Multi-class classification : Softmax function"
      ]
    },
    {
      "cell_type": "code",
      "metadata": {
        "id": "XcFSZtxeSg4d",
        "colab": {
          "base_uri": "https://localhost:8080/"
        },
        "outputId": "b0eff4be-018b-44fc-f2b1-8fe8a7d207cd"
      },
      "source": [
        "!pip3 install torch"
      ],
      "execution_count": 1,
      "outputs": [
        {
          "output_type": "stream",
          "text": [
            "Requirement already satisfied: torch in /usr/local/lib/python3.7/dist-packages (1.8.0+cu101)\n",
            "Requirement already satisfied: typing-extensions in /usr/local/lib/python3.7/dist-packages (from torch) (3.7.4.3)\n",
            "Requirement already satisfied: numpy in /usr/local/lib/python3.7/dist-packages (from torch) (1.19.5)\n"
          ],
          "name": "stdout"
        }
      ]
    },
    {
      "cell_type": "code",
      "metadata": {
        "id": "iOavlXUh-hia"
      },
      "source": [
        "import torch\n",
        "import matplotlib.pyplot as plt\n",
        "import numpy as np\n",
        "from torch import nn\n",
        "import torch.nn.functional as F\n",
        "from torchvision import datasets, transforms"
      ],
      "execution_count": 2,
      "outputs": []
    },
    {
      "cell_type": "markdown",
      "metadata": {
        "id": "5PUR5-9LCMX3"
      },
      "source": [
        "This is needed to counter the HTTP 503 error"
      ]
    },
    {
      "cell_type": "code",
      "metadata": {
        "colab": {
          "base_uri": "https://localhost:8080/"
        },
        "id": "HStTuEEICDE4",
        "outputId": "99a5fdfe-6c1e-49a4-a938-f948db5e05b3"
      },
      "source": [
        "!wget www.di.ens.fr/~lelarge/MNIST.tar.gz\n",
        "!tar -zxvf MNIST.tar.gz"
      ],
      "execution_count": 3,
      "outputs": [
        {
          "output_type": "stream",
          "text": [
            "--2021-03-20 09:02:33--  http://www.di.ens.fr/~lelarge/MNIST.tar.gz\n",
            "Resolving www.di.ens.fr (www.di.ens.fr)... 129.199.99.14\n",
            "Connecting to www.di.ens.fr (www.di.ens.fr)|129.199.99.14|:80... connected.\n",
            "HTTP request sent, awaiting response... 302 Found\n",
            "Location: https://www.di.ens.fr/~lelarge/MNIST.tar.gz [following]\n",
            "--2021-03-20 09:02:34--  https://www.di.ens.fr/~lelarge/MNIST.tar.gz\n",
            "Connecting to www.di.ens.fr (www.di.ens.fr)|129.199.99.14|:443... connected.\n",
            "HTTP request sent, awaiting response... 200 OK\n",
            "Length: unspecified [application/x-gzip]\n",
            "Saving to: ‘MNIST.tar.gz.1’\n",
            "\n",
            "MNIST.tar.gz.1          [          <=>       ]  33.20M  16.5MB/s    in 2.0s    \n",
            "\n",
            "2021-03-20 09:02:36 (16.5 MB/s) - ‘MNIST.tar.gz.1’ saved [34813078]\n",
            "\n",
            "MNIST/\n",
            "MNIST/raw/\n",
            "MNIST/raw/train-labels-idx1-ubyte\n",
            "MNIST/raw/t10k-labels-idx1-ubyte.gz\n",
            "MNIST/raw/t10k-labels-idx1-ubyte\n",
            "MNIST/raw/t10k-images-idx3-ubyte.gz\n",
            "MNIST/raw/train-images-idx3-ubyte\n",
            "MNIST/raw/train-labels-idx1-ubyte.gz\n",
            "MNIST/raw/t10k-images-idx3-ubyte\n",
            "MNIST/raw/train-images-idx3-ubyte.gz\n",
            "MNIST/processed/\n",
            "MNIST/processed/training.pt\n",
            "MNIST/processed/test.pt\n"
          ],
          "name": "stdout"
        }
      ]
    },
    {
      "cell_type": "code",
      "metadata": {
        "colab": {
          "base_uri": "https://localhost:8080/"
        },
        "id": "k-sobvcVHpGN",
        "outputId": "ebbb49f4-a86c-415f-8e13-2edcc9452d97"
      },
      "source": [
        "root_dir = './'\n",
        "datasets.MNIST(root=root_dir,download=True)"
      ],
      "execution_count": 4,
      "outputs": [
        {
          "output_type": "execute_result",
          "data": {
            "text/plain": [
              "Dataset MNIST\n",
              "    Number of datapoints: 60000\n",
              "    Root location: ./\n",
              "    Split: Train"
            ]
          },
          "metadata": {
            "tags": []
          },
          "execution_count": 4
        }
      ]
    },
    {
      "cell_type": "code",
      "metadata": {
        "id": "kQcbC3Of-weA"
      },
      "source": [
        "transform = transforms.Compose([transforms.ToTensor(), \n",
        "                                #first argument specifies the mean, second argument specifies the stddev to create a range from -1 to 1\n",
        "                                transforms.Normalize((0.5,), (0.5,))])\n",
        "#training\n",
        "training_dataset = datasets.MNIST(root=root_dir, train=True, download=True, transform=transform)\n",
        "#validation\n",
        "validation_dataset = datasets.MNIST(root = root_dir, train=False, download=True, transform=transform)"
      ],
      "execution_count": 5,
      "outputs": []
    },
    {
      "cell_type": "markdown",
      "metadata": {
        "id": "leUPbmwcR1c5"
      },
      "source": [
        "Training data loader"
      ]
    },
    {
      "cell_type": "code",
      "metadata": {
        "id": "UEzkWo6aR1JX"
      },
      "source": [
        "training_loader = torch.utils.data.DataLoader(dataset=training_dataset, batch_size=100, shuffle=True)"
      ],
      "execution_count": 6,
      "outputs": []
    },
    {
      "cell_type": "markdown",
      "metadata": {
        "id": "LREb3h6PxQXN"
      },
      "source": [
        "Validation data loader"
      ]
    },
    {
      "cell_type": "code",
      "metadata": {
        "id": "v3Ms-ZbpxP-C"
      },
      "source": [
        "validation_loader = torch.utils.data.DataLoader(dataset=validation_dataset, batch_size=100, shuffle=False) "
      ],
      "execution_count": 7,
      "outputs": []
    },
    {
      "cell_type": "markdown",
      "metadata": {
        "id": "PkVwTR3bL3Yz"
      },
      "source": [
        "Converting tensors to numpy so as to plot it\\\n",
        "To get numpy() from tensor, use detach() function"
      ]
    },
    {
      "cell_type": "markdown",
      "metadata": {
        "id": "z5UUHpw6NlnU"
      },
      "source": [
        "Why we use detach()?\\\n",
        "torch.tensors has an additional layer for storing the computational graph leading to associated n-dimesional matrix. torch.tensors() are designed to be used with gradient descent optimisation and they hold both the tensors with numeric values and computational graph leading to these values. The computational graph is then used to compute the derivative of the loss function wrt to each of the independent variables to compute the loss.\\\n",
        "np.ndarray does not have this \"computational graph\" and hence when converting a tensor to numpy array, detach() is used to remove this computational graph\\\n",
        "https://stackoverflow.com/questions/63582590/why-do-we-call-detach-before-calling-numpy-on-a-pytorch-tensor"
      ]
    },
    {
      "cell_type": "code",
      "metadata": {
        "id": "9xLrIzrJL02E"
      },
      "source": [
        "def im_convert(tensor):\n",
        "  image = tensor.clone().detach().numpy()\n",
        "  image = image.transpose(1, 2, 0) #shape 28 x 28 x 1\n",
        "  #de-normalisation - multiply by std and add mean\n",
        "  image = image * np.array((0.5, 0.5, 0.5)) + np.array((0.5, 0.5, 0.5))\n",
        "  image = image.clip(0, 1)\n",
        "  return image"
      ],
      "execution_count": 8,
      "outputs": []
    },
    {
      "cell_type": "markdown",
      "metadata": {
        "id": "5rj3Dw9pSmvA"
      },
      "source": [
        ""
      ]
    },
    {
      "cell_type": "code",
      "metadata": {
        "colab": {
          "base_uri": "https://localhost:8080/",
          "height": 218
        },
        "id": "Z-XSuLomSY-3",
        "outputId": "48da08f6-d24a-4a89-e191-43385daad409"
      },
      "source": [
        "dataiter = iter(training_loader)\n",
        "images, labels = dataiter.next()\n",
        "fig = plt.figure(figsize=(25,4))\n",
        "\n",
        "for idx in np.arange(20):\n",
        "  ax = fig.add_subplot(2, 10, idx+1, xticks=[], yticks=[])\n",
        "  plt.imshow(im_convert(images[idx]))\n",
        "  ax.set_title(labels[idx].item())"
      ],
      "execution_count": 9,
      "outputs": [
        {
          "output_type": "display_data",
          "data": {
            "image/png": "[encoded data removed]",
            "text/plain": [
              "<Figure size 1800x288 with 20 Axes>"
            ]
          },
          "metadata": {
            "tags": []
          }
        }
      ]
    },
    {
      "cell_type": "markdown",
      "metadata": {
        "id": "T9KcFA3wcZaE"
      },
      "source": [
        "nn.Sequential and nn.Module\\\n",
        "**nn.Module**: This is the main building block, it defines base class for all the neural network and you MUST subclass it. When using nn.Module, we must write our own forward() method. This allows us to define our own model in a functional way\\\n",
        "**nn.Sequential**: Sequential is a container of Modules that can be stacked together and run at the same time \n",
        "\n",
        "\n",
        "\n",
        "https://towardsdatascience.com/pytorch-how-and-when-to-use-module-sequential-modulelist-and-moduledict-7a54597b5f17\n"
      ]
    },
    {
      "cell_type": "code",
      "metadata": {
        "id": "mM-IH0t9bz5r"
      },
      "source": [
        "class Classifier(nn.Module):\n",
        "  def __init__(self, d_in, h1, h2, d_out):\n",
        "    super().__init__()\n",
        "    self.linear1 = nn.Linear(d_in, h1)\n",
        "    self.linear2 = nn.Linear(h1, h2)\n",
        "    self.linear3 = nn.Linear(h2, d_out)\n",
        "\n",
        "  def forward(self, x):\n",
        "    H1 = F.relu(self.linear1(x))\n",
        "    H2 = F.relu(self.linear2(H1))\n",
        "    #we can omit softmax here since we will use crossentropy as loss criterion\n",
        "    #and it's implementation in pytorch already implements softmax\n",
        "    Y  = self.linear3(H2)\n",
        "    return Y\n"
      ],
      "execution_count": 10,
      "outputs": []
    },
    {
      "cell_type": "code",
      "metadata": {
        "colab": {
          "base_uri": "https://localhost:8080/"
        },
        "id": "La14JIqzkfqK",
        "outputId": "822ed656-f18b-4635-b3d2-bb5a9cc595a3"
      },
      "source": [
        "model = Classifier(784 , 125, 65, 10) \n",
        "model"
      ],
      "execution_count": 11,
      "outputs": [
        {
          "output_type": "execute_result",
          "data": {
            "text/plain": [
              "Classifier(\n",
              "  (linear1): Linear(in_features=784, out_features=125, bias=True)\n",
              "  (linear2): Linear(in_features=125, out_features=65, bias=True)\n",
              "  (linear3): Linear(in_features=65, out_features=10, bias=True)\n",
              ")"
            ]
          },
          "metadata": {
            "tags": []
          },
          "execution_count": 11
        }
      ]
    },
    {
      "cell_type": "code",
      "metadata": {
        "id": "E5-S9X58lPsX"
      },
      "source": [
        "criterion = nn.CrossEntropyLoss()\n",
        "optimizer = torch.optim.Adam(model.parameters(), lr=0.001)"
      ],
      "execution_count": 12,
      "outputs": []
    },
    {
      "cell_type": "code",
      "metadata": {
        "colab": {
          "base_uri": "https://localhost:8080/"
        },
        "id": "64ZKjJfTlq1V",
        "outputId": "374f0f69-0eea-40a7-b658-38c813c2c806"
      },
      "source": [
        "epochs = 20\n",
        "losses = []\n",
        "accuracy = []\n",
        "val_losses = []\n",
        "val_accuracies = []\n",
        "\n",
        "for e in range(epochs):\n",
        "  running_loss = 0.0\n",
        "  running_accuracy = 0.0\n",
        "  val_loss = 0.0\n",
        "  val_accuracy = 0.0\n",
        "\n",
        "  for images, labels in training_loader:\n",
        "    #flatten the image\n",
        "    images = images.view(images.shape[0], -1)    #(1, 784)\n",
        "    outputs = model(images)   #forward?\n",
        "    loss = criterion(outputs, labels)\n",
        "\n",
        "    optimizer.zero_grad()\n",
        "    loss.backward()\n",
        "    optimizer.step()\n",
        "\n",
        "    _, preds = torch.max(outputs, 1)\n",
        "    running_accuracy += torch.sum(preds == labels.data)\n",
        "    running_loss += loss.item() \n",
        "\n",
        "  else:\n",
        "    with torch.no_grad():       #because we dont have to perform gradients for validation set\n",
        "      for val_images, val_labels in validation_loader:\n",
        "        val_images = val_images.view(val_images.shape[0], -1)\n",
        "        val_outputs = model(val_images)\n",
        "        val_loss = criterion(val_outputs, val_labels)\n",
        "\n",
        "        _, val_preds = torch.max(val_outputs, 1)\n",
        "        val_accuracy += torch.sum(val_preds == val_labels.data)\n",
        "        val_loss += val_loss.item() \n",
        "    #metrics for training data\n",
        "    epoch_loss = running_loss/len(training_loader)\n",
        "    epoch_accuracy = running_accuracy.float()/len(training_loader)\n",
        "    losses.append(epoch_loss)\n",
        "    accuracy.append(epoch_accuracy)\n",
        "    #metrics for validation data\n",
        "    val_epoch_loss = val_loss/len(validation_loader)\n",
        "    val_epoch_accuracy = val_accuracy.float()/len(validation_loader)\n",
        "    val_losses.append(val_epoch_loss)\n",
        "    val_accuracies.append(val_epoch_accuracy)\n",
        "    #print the training and validation metrics\n",
        "    print(\"epoch:\", e+1)\n",
        "    print('training loss: {:.4f}, acc {:.4f}'.format(epoch_loss, epoch_accuracy.item()))\n",
        "    print('validation loss: {:.4f}, acc {:.4f}'.format(val_epoch_loss, val_epoch_accuracy.item()))\n"
      ],
      "execution_count": 13,
      "outputs": [
        {
          "output_type": "stream",
          "text": [
            "epoch: 1\n",
            "training loss: 0.4541, acc 86.6883\n",
            "validation loss: 0.0077, acc 91.7400\n",
            "epoch: 2\n",
            "training loss: 0.2269, acc 93.2417\n",
            "validation loss: 0.0051, acc 94.1600\n",
            "epoch: 3\n",
            "training loss: 0.1661, acc 94.9733\n",
            "validation loss: 0.0039, acc 95.6900\n",
            "epoch: 4\n",
            "training loss: 0.1307, acc 95.9783\n",
            "validation loss: 0.0023, acc 96.1300\n",
            "epoch: 5\n",
            "training loss: 0.1086, acc 96.6650\n",
            "validation loss: 0.0027, acc 96.2500\n",
            "epoch: 6\n",
            "training loss: 0.0929, acc 97.1683\n",
            "validation loss: 0.0022, acc 96.6900\n",
            "epoch: 7\n",
            "training loss: 0.0834, acc 97.3300\n",
            "validation loss: 0.0018, acc 97.1800\n",
            "epoch: 8\n",
            "training loss: 0.0723, acc 97.6900\n",
            "validation loss: 0.0013, acc 97.1400\n",
            "epoch: 9\n",
            "training loss: 0.0663, acc 97.8850\n",
            "validation loss: 0.0015, acc 97.3700\n",
            "epoch: 10\n",
            "training loss: 0.0590, acc 98.1100\n",
            "validation loss: 0.0021, acc 97.0800\n",
            "epoch: 11\n",
            "training loss: 0.0520, acc 98.3033\n",
            "validation loss: 0.0032, acc 97.3500\n",
            "epoch: 12\n",
            "training loss: 0.0507, acc 98.3700\n",
            "validation loss: 0.0006, acc 97.4400\n",
            "epoch: 13\n",
            "training loss: 0.0470, acc 98.4733\n",
            "validation loss: 0.0008, acc 97.4700\n",
            "epoch: 14\n",
            "training loss: 0.0430, acc 98.5467\n",
            "validation loss: 0.0022, acc 97.0600\n",
            "epoch: 15\n",
            "training loss: 0.0405, acc 98.6650\n",
            "validation loss: 0.0026, acc 97.1800\n",
            "epoch: 16\n",
            "training loss: 0.0370, acc 98.7700\n",
            "validation loss: 0.0025, acc 97.1900\n",
            "epoch: 17\n",
            "training loss: 0.0356, acc 98.7883\n",
            "validation loss: 0.0006, acc 97.1900\n",
            "epoch: 18\n",
            "training loss: 0.0305, acc 98.9867\n",
            "validation loss: 0.0008, acc 97.6400\n",
            "epoch: 19\n",
            "training loss: 0.0318, acc 98.8950\n",
            "validation loss: 0.0032, acc 97.6100\n",
            "epoch: 20\n",
            "training loss: 0.0280, acc 99.0617\n",
            "validation loss: 0.0018, acc 97.3900\n"
          ],
          "name": "stdout"
        }
      ]
    },
    {
      "cell_type": "code",
      "metadata": {
        "colab": {
          "base_uri": "https://localhost:8080/",
          "height": 282
        },
        "id": "c_zTcwVJrons",
        "outputId": "8c1c47b1-b585-4611-bd60-7ca6c881b6c4"
      },
      "source": [
        "plt.plot(losses, label='training loss')\n",
        "plt.plot(val_losses, label='validation loss')\n",
        "plt.legend()"
      ],
      "execution_count": 14,
      "outputs": [
        {
          "output_type": "execute_result",
          "data": {
            "text/plain": [
              "<matplotlib.legend.Legend at 0x7f9bada74f90>"
            ]
          },
          "metadata": {
            "tags": []
          },
          "execution_count": 14
        },
        {
          "output_type": "display_data",
          "data": {
            "image/png": "[encoded data removed]",
            "text/plain": [
              "<Figure size 432x288 with 1 Axes>"
            ]
          },
          "metadata": {
            "tags": [],
            "needs_background": "light"
          }
        }
      ]
    },
    {
      "cell_type": "code",
      "metadata": {
        "colab": {
          "base_uri": "https://localhost:8080/",
          "height": 282
        },
        "id": "3B-4GqyDtZli",
        "outputId": "a4b35589-c9ca-44b9-e312-12cccd0baf9d"
      },
      "source": [
        "plt.plot(accuracy, label='training accuracy')\n",
        "plt.plot(val_accuracies, label = 'validation accuracy')"
      ],
      "execution_count": 15,
      "outputs": [
        {
          "output_type": "execute_result",
          "data": {
            "text/plain": [
              "[<matplotlib.lines.Line2D at 0x7f9bae33f850>]"
            ]
          },
          "metadata": {
            "tags": []
          },
          "execution_count": 15
        },
        {
          "output_type": "display_data",
          "data": {
            "image/png": "[encoded data removed]",
            "text/plain": [
              "<Figure size 432x288 with 1 Axes>"
            ]
          },
          "metadata": {
            "tags": [],
            "needs_background": "light"
          }
        }
      ]
    }
  ]
}