{
  "nbformat": 4,
  "nbformat_minor": 0,
  "metadata": {
    "colab": {
      "name": "ImageRecognitionUsingMNIST.ipynb",
      "provenance": [],
      "authorship_tag": "ABX9TyMOabIabZHrEWoZ2ozAQFEC",
      "include_colab_link": true
    },
    "kernelspec": {
      "name": "python3",
      "display_name": "Python 3"
    },
    "language_info": {
      "name": "python"
    },
    "accelerator": "GPU"
  },
  "cells": [
    {
      "cell_type": "markdown",
      "metadata": {
        "id": "view-in-github",
        "colab_type": "text"
      },
      "source": [
        "<a href=\"https://colab.research.google.com/github/AnupamaRajkumar/PyTorchTutorials/blob/main/ImageRecognitionUsingMNISTUsingLeNET.ipynb\" target=\"_parent\"><img src=\"https://colab.research.google.com/assets/colab-badge.svg\" alt=\"Open In Colab\"/></a>"
      ]
    },
    {
      "cell_type": "markdown",
      "metadata": {
        "id": "18U6CXyhSk1P"
      },
      "source": [
        "Multi-class classification : Softmax function"
      ]
    },
    {
      "cell_type": "code",
      "metadata": {
        "id": "XcFSZtxeSg4d",
        "colab": {
          "base_uri": "https://localhost:8080/"
        },
        "outputId": "ec8488b9-7a70-4c85-92fb-907a24878772"
      },
      "source": [
        "!pip3 install torch"
      ],
      "execution_count": 1,
      "outputs": [
        {
          "output_type": "stream",
          "text": [
            "Requirement already satisfied: torch in /usr/local/lib/python3.7/dist-packages (1.8.0+cu101)\n",
            "Requirement already satisfied: typing-extensions in /usr/local/lib/python3.7/dist-packages (from torch) (3.7.4.3)\n",
            "Requirement already satisfied: numpy in /usr/local/lib/python3.7/dist-packages (from torch) (1.19.5)\n"
          ],
          "name": "stdout"
        }
      ]
    },
    {
      "cell_type": "code",
      "metadata": {
        "id": "iOavlXUh-hia"
      },
      "source": [
        "import torch\n",
        "import matplotlib.pyplot as plt\n",
        "import numpy as np\n",
        "from torch import nn\n",
        "import torch.nn.functional as F\n",
        "from torchvision import datasets, transforms"
      ],
      "execution_count": 2,
      "outputs": []
    },
    {
      "cell_type": "code",
      "metadata": {
        "id": "8WVL_p5SUCbj"
      },
      "source": [
        "device = torch.device('cuda:0' if torch.cuda.is_available() else \"cpu\")"
      ],
      "execution_count": 3,
      "outputs": []
    },
    {
      "cell_type": "markdown",
      "metadata": {
        "id": "5PUR5-9LCMX3"
      },
      "source": [
        "This is needed to counter the HTTP 503 error"
      ]
    },
    {
      "cell_type": "code",
      "metadata": {
        "colab": {
          "base_uri": "https://localhost:8080/"
        },
        "id": "HStTuEEICDE4",
        "outputId": "a68201c6-3302-495b-dfd5-001a78c24b76"
      },
      "source": [
        "!wget www.di.ens.fr/~lelarge/MNIST.tar.gz\n",
        "!tar -zxvf MNIST.tar.gz"
      ],
      "execution_count": 4,
      "outputs": [
        {
          "output_type": "stream",
          "text": [
            "--2021-03-21 06:10:38--  http://www.di.ens.fr/~lelarge/MNIST.tar.gz\n",
            "Resolving www.di.ens.fr (www.di.ens.fr)... 129.199.99.14\n",
            "Connecting to www.di.ens.fr (www.di.ens.fr)|129.199.99.14|:80... connected.\n",
            "HTTP request sent, awaiting response... 302 Found\n",
            "Location: https://www.di.ens.fr/~lelarge/MNIST.tar.gz [following]\n",
            "--2021-03-21 06:10:38--  https://www.di.ens.fr/~lelarge/MNIST.tar.gz\n",
            "Connecting to www.di.ens.fr (www.di.ens.fr)|129.199.99.14|:443... connected.\n",
            "HTTP request sent, awaiting response... 200 OK\n",
            "Length: unspecified [application/x-gzip]\n",
            "Saving to: ‘MNIST.tar.gz’\n",
            "\n",
            "MNIST.tar.gz            [         <=>        ]  33.20M  18.9MB/s    in 1.8s    \n",
            "\n",
            "2021-03-21 06:10:40 (18.9 MB/s) - ‘MNIST.tar.gz’ saved [34813078]\n",
            "\n",
            "MNIST/\n",
            "MNIST/raw/\n",
            "MNIST/raw/train-labels-idx1-ubyte\n",
            "MNIST/raw/t10k-labels-idx1-ubyte.gz\n",
            "MNIST/raw/t10k-labels-idx1-ubyte\n",
            "MNIST/raw/t10k-images-idx3-ubyte.gz\n",
            "MNIST/raw/train-images-idx3-ubyte\n",
            "MNIST/raw/train-labels-idx1-ubyte.gz\n",
            "MNIST/raw/t10k-images-idx3-ubyte\n",
            "MNIST/raw/train-images-idx3-ubyte.gz\n",
            "MNIST/processed/\n",
            "MNIST/processed/training.pt\n",
            "MNIST/processed/test.pt\n"
          ],
          "name": "stdout"
        }
      ]
    },
    {
      "cell_type": "code",
      "metadata": {
        "colab": {
          "base_uri": "https://localhost:8080/"
        },
        "id": "k-sobvcVHpGN",
        "outputId": "fd2af70f-fa7c-42ad-e810-4f8178289d32"
      },
      "source": [
        "root_dir = './'\n",
        "datasets.MNIST(root=root_dir,download=True)"
      ],
      "execution_count": 5,
      "outputs": [
        {
          "output_type": "execute_result",
          "data": {
            "text/plain": [
              "Dataset MNIST\n",
              "    Number of datapoints: 60000\n",
              "    Root location: ./\n",
              "    Split: Train"
            ]
          },
          "metadata": {
            "tags": []
          },
          "execution_count": 5
        }
      ]
    },
    {
      "cell_type": "code",
      "metadata": {
        "id": "kQcbC3Of-weA"
      },
      "source": [
        "transform = transforms.Compose([transforms.ToTensor(), \n",
        "                                #first argument specifies the mean, second argument specifies the stddev to create a range from -1 to 1\n",
        "                                transforms.Normalize((0.5,), (0.5,))])\n",
        "#training\n",
        "training_dataset = datasets.MNIST(root=root_dir, train=True, download=True, transform=transform)\n",
        "#validation\n",
        "validation_dataset = datasets.MNIST(root = root_dir, train=False, download=True, transform=transform)"
      ],
      "execution_count": 6,
      "outputs": []
    },
    {
      "cell_type": "markdown",
      "metadata": {
        "id": "leUPbmwcR1c5"
      },
      "source": [
        "Training data loader"
      ]
    },
    {
      "cell_type": "code",
      "metadata": {
        "id": "UEzkWo6aR1JX"
      },
      "source": [
        "training_loader = torch.utils.data.DataLoader(dataset=training_dataset, batch_size=100, shuffle=True)"
      ],
      "execution_count": 7,
      "outputs": []
    },
    {
      "cell_type": "markdown",
      "metadata": {
        "id": "LREb3h6PxQXN"
      },
      "source": [
        "Validation data loader"
      ]
    },
    {
      "cell_type": "code",
      "metadata": {
        "id": "v3Ms-ZbpxP-C"
      },
      "source": [
        "validation_loader = torch.utils.data.DataLoader(dataset=validation_dataset, batch_size=100, shuffle=False) "
      ],
      "execution_count": 8,
      "outputs": []
    },
    {
      "cell_type": "markdown",
      "metadata": {
        "id": "PkVwTR3bL3Yz"
      },
      "source": [
        "Converting tensors to numpy so as to plot it\\\n",
        "To get numpy() from tensor, use detach() function"
      ]
    },
    {
      "cell_type": "markdown",
      "metadata": {
        "id": "z5UUHpw6NlnU"
      },
      "source": [
        "Why we use detach()?\\\n",
        "torch.tensors has an additional layer for storing the computational graph leading to associated n-dimesional matrix. torch.tensors() are designed to be used with gradient descent optimisation and they hold both the tensors with numeric values and computational graph leading to these values. The computational graph is then used to compute the derivative of the loss function wrt to each of the independent variables to compute the loss.\\\n",
        "np.ndarray does not have this \"computational graph\" and hence when converting a tensor to numpy array, detach() is used to remove this computational graph\\\n",
        "https://stackoverflow.com/questions/63582590/why-do-we-call-detach-before-calling-numpy-on-a-pytorch-tensor"
      ]
    },
    {
      "cell_type": "code",
      "metadata": {
        "id": "9xLrIzrJL02E"
      },
      "source": [
        "def im_convert(tensor):\n",
        "  image = tensor.cpu().clone().detach().numpy()\n",
        "  image = image.transpose(1, 2, 0) #shape 28 x 28 x 1\n",
        "  #de-normalisation - multiply by std and add mean\n",
        "  image = image * np.array((0.5, 0.5, 0.5)) + np.array((0.5, 0.5, 0.5))\n",
        "  image = image.clip(0, 1)\n",
        "  return image"
      ],
      "execution_count": 25,
      "outputs": []
    },
    {
      "cell_type": "markdown",
      "metadata": {
        "id": "5rj3Dw9pSmvA"
      },
      "source": [
        ""
      ]
    },
    {
      "cell_type": "code",
      "metadata": {
        "colab": {
          "base_uri": "https://localhost:8080/",
          "height": 233
        },
        "id": "Z-XSuLomSY-3",
        "outputId": "34175f92-a83c-4270-8bac-f3f88ae84cf4"
      },
      "source": [
        "dataiter = iter(training_loader)\n",
        "images, labels = dataiter.next()\n",
        "fig = plt.figure(figsize=(25,4))\n",
        "\n",
        "for idx in np.arange(20):\n",
        "  ax = fig.add_subplot(2, 10, idx+1, xticks=[], yticks=[])\n",
        "  plt.imshow(im_convert(images[idx]))\n",
        "  ax.set_title(labels[idx].item())"
      ],
      "execution_count": 26,
      "outputs": [
        {
          "output_type": "display_data",
          "data": {
            "image/png": "[encoded data removed]",
            "text/plain": [
              "<Figure size 1800x288 with 20 Axes>"
            ]
          },
          "metadata": {
            "tags": []
          }
        }
      ]
    },
    {
      "cell_type": "markdown",
      "metadata": {
        "id": "T9KcFA3wcZaE"
      },
      "source": [
        "nn.Sequential and nn.Module\\\n",
        "**nn.Module**: This is the main building block, it defines base class for all the neural network and you MUST subclass it. When using nn.Module, we must write our own forward() method. This allows us to define our own model in a functional way\\\n",
        "**nn.Sequential**: Sequential is a container of Modules that can be stacked together and run at the same time \n",
        "\n",
        "\n",
        "\n",
        "https://towardsdatascience.com/pytorch-how-and-when-to-use-module-sequential-modulelist-and-moduledict-7a54597b5f17\n"
      ]
    },
    {
      "cell_type": "markdown",
      "metadata": {
        "id": "fqODMxc2D_PW"
      },
      "source": [
        "This model tends to overfit, hence we try to use CNN instead and check if the performance improves"
      ]
    },
    {
      "cell_type": "code",
      "metadata": {
        "id": "mM-IH0t9bz5r"
      },
      "source": [
        "class Classifier(nn.Module):\n",
        "  def __init__(self, d_in, h1, h2, d_out):\n",
        "    super().__init__()\n",
        "    self.linear1 = nn.Linear(d_in, h1)\n",
        "    self.linear2 = nn.Linear(h1, h2)\n",
        "    self.linear3 = nn.Linear(h2, d_out)\n",
        "\n",
        "  def forward(self, x):\n",
        "    H1 = F.relu(self.linear1(x))\n",
        "    H2 = F.relu(self.linear2(H1))\n",
        "    #we can omit softmax here since we will use crossentropy as loss criterion\n",
        "    #and it's implementation in pytorch already implements softmax\n",
        "    Y  = self.linear3(H2)\n",
        "    return Y\n"
      ],
      "execution_count": 11,
      "outputs": []
    },
    {
      "cell_type": "markdown",
      "metadata": {
        "id": "16QASUczHgQX"
      },
      "source": [
        "Convolutional Neural Network : LeNet"
      ]
    },
    {
      "cell_type": "markdown",
      "metadata": {
        "id": "aj-Mwk_qPWfx"
      },
      "source": [
        "How did we arrive ar 4x4x50?\\\n",
        "1. i/p image dims = 28x28x1\n",
        "2. first  2d conv with kernel of size 5 and stride 1 and 20 o/p channels = (28-5+1) = 24x24x20\n",
        "3. max pooling with kernel of size 2 and 20 o/p channels = (24/2) = 12x12x20\n",
        "4. second 2d conv with kernel of size 5 and stride 1 and 50 o/p channnels = (12-5+1) = 8x8x50\n",
        "5. max pooing with kernel of size 2 and 50 o/p channels = (8/2) = 4x4x50\n",
        "6. first fully connected layer = 4x4x50, linearised\n",
        "\n"
      ]
    },
    {
      "cell_type": "code",
      "metadata": {
        "id": "-pGqARYqHXT1"
      },
      "source": [
        "class LeNet(nn.Module):\n",
        "  def __init__(self):\n",
        "    super().__init__()\n",
        "    self.conv1 = nn.Conv2d(1, 20, 5, 1)           #number of input channels, number of output channels, kernel size, stride length\n",
        "    self.conv2 = nn.Conv2d(20, 50, 5, 1)\n",
        "    self.fc1 = nn.Linear(4*4*50, 500)\n",
        "    self.fc2 = nn.Linear(500, 10)\n",
        "    self.drop1 = nn.Dropout(0.5)                  #dropout to prevent overfitting\n",
        "\n",
        "  def forward(self, x):\n",
        "    L1 = F.relu(self.conv1(x))\n",
        "    P1 = F.max_pool2d(L1, 2, 2)\n",
        "    L2 = F.relu(self.conv2(P1))\n",
        "    P2 = F.max_pool2d(L2, 2, 2)\n",
        "    fi = P2.view(-1, 4*4*50)\n",
        "    f1 = F.relu(self.fc1(fi))\n",
        "    d1 = self.drop1(f1)\n",
        "    #we can omit softmax here since we will use crossentropy as loss criterion\n",
        "    #and it's implementation in pytorch already implements softmax\n",
        "    f2  = self.fc2(d1)\n",
        "    return f2"
      ],
      "execution_count": 12,
      "outputs": []
    },
    {
      "cell_type": "code",
      "metadata": {
        "colab": {
          "base_uri": "https://localhost:8080/"
        },
        "id": "La14JIqzkfqK",
        "outputId": "08e462be-7abb-4c40-de17-35aa07387cba"
      },
      "source": [
        "model = LeNet().to(device) \n",
        "model"
      ],
      "execution_count": 13,
      "outputs": [
        {
          "output_type": "execute_result",
          "data": {
            "text/plain": [
              "LeNet(\n",
              "  (conv1): Conv2d(1, 20, kernel_size=(5, 5), stride=(1, 1))\n",
              "  (conv2): Conv2d(20, 50, kernel_size=(5, 5), stride=(1, 1))\n",
              "  (fc1): Linear(in_features=800, out_features=500, bias=True)\n",
              "  (fc2): Linear(in_features=500, out_features=10, bias=True)\n",
              "  (drop1): Dropout(p=0.5, inplace=False)\n",
              ")"
            ]
          },
          "metadata": {
            "tags": []
          },
          "execution_count": 13
        }
      ]
    },
    {
      "cell_type": "code",
      "metadata": {
        "id": "E5-S9X58lPsX"
      },
      "source": [
        "criterion = nn.CrossEntropyLoss()\n",
        "optimizer = torch.optim.Adam(model.parameters(), lr=0.0001)"
      ],
      "execution_count": 14,
      "outputs": []
    },
    {
      "cell_type": "code",
      "metadata": {
        "colab": {
          "base_uri": "https://localhost:8080/"
        },
        "id": "64ZKjJfTlq1V",
        "outputId": "7d992974-d64d-4c2a-a5aa-54f223d4504e"
      },
      "source": [
        "epochs = 15\n",
        "losses = []\n",
        "accuracy = []\n",
        "val_losses = []\n",
        "val_accuracies = []\n",
        "\n",
        "for e in range(epochs):\n",
        "  running_loss = 0.0\n",
        "  running_accuracy = 0.0\n",
        "  val_loss = 0.0\n",
        "  val_accuracy = 0.0\n",
        "\n",
        "  for images, labels in training_loader:\n",
        "    images = images.to(device)\n",
        "    labels = labels.to(device)\n",
        "    outputs = model(images)   \n",
        "    loss = criterion(outputs, labels)\n",
        "\n",
        "    optimizer.zero_grad()\n",
        "    loss.backward()\n",
        "    optimizer.step()\n",
        "\n",
        "    _, preds = torch.max(outputs, 1)\n",
        "    running_accuracy += torch.sum(preds == labels.data)\n",
        "    running_loss += loss.item() \n",
        "\n",
        "  else:\n",
        "    with torch.no_grad():       #because we dont have to perform gradients for validation set\n",
        "      for val_images, val_labels in validation_loader:\n",
        "        val_images = val_images.to(device)\n",
        "        val_labels = val_labels.to(device)\n",
        "        val_outputs = model(val_images)\n",
        "        val_loss = criterion(val_outputs, val_labels)\n",
        "\n",
        "        _, val_preds = torch.max(val_outputs, 1)\n",
        "        val_accuracy += torch.sum(val_preds == val_labels.data)\n",
        "        val_loss += val_loss.item() \n",
        "    #metrics for training data\n",
        "    epoch_loss = running_loss/len(training_loader)\n",
        "    epoch_accuracy = running_accuracy.float()/len(training_loader)\n",
        "    losses.append(epoch_loss)\n",
        "    accuracy.append(epoch_accuracy)\n",
        "    #metrics for validation data\n",
        "    val_epoch_loss = val_loss/len(validation_loader)\n",
        "    val_epoch_accuracy = val_accuracy.float()/len(validation_loader)\n",
        "    val_losses.append(val_epoch_loss)\n",
        "    val_accuracies.append(val_epoch_accuracy)\n",
        "    #print the training and validation metrics\n",
        "    print(\"epoch:\", e+1)\n",
        "    print('training loss: {:.6f}, acc {:.6f}'.format(epoch_loss, epoch_accuracy.item()))\n",
        "    print('validation loss: {:.6f}, acc {:.6f}'.format(val_epoch_loss, val_epoch_accuracy.item()))\n"
      ],
      "execution_count": 15,
      "outputs": [
        {
          "output_type": "stream",
          "text": [
            "epoch: 1\n",
            "training loss: 0.579368, acc 84.741669\n",
            "validation loss: 0.004914, acc 94.610001\n",
            "epoch: 2\n",
            "training loss: 0.149021, acc 95.653336\n",
            "validation loss: 0.003493, acc 96.949997\n",
            "epoch: 3\n",
            "training loss: 0.100730, acc 96.963333\n",
            "validation loss: 0.001792, acc 97.610001\n",
            "epoch: 4\n",
            "training loss: 0.080078, acc 97.556671\n",
            "validation loss: 0.001605, acc 97.989998\n",
            "epoch: 5\n",
            "training loss: 0.065622, acc 98.006668\n",
            "validation loss: 0.000729, acc 98.180000\n",
            "epoch: 6\n",
            "training loss: 0.057008, acc 98.268333\n",
            "validation loss: 0.001147, acc 98.519997\n",
            "epoch: 7\n",
            "training loss: 0.049920, acc 98.486671\n",
            "validation loss: 0.000488, acc 98.559998\n",
            "epoch: 8\n",
            "training loss: 0.045267, acc 98.663338\n",
            "validation loss: 0.000403, acc 98.669998\n",
            "epoch: 9\n",
            "training loss: 0.041394, acc 98.723335\n",
            "validation loss: 0.000141, acc 98.829994\n",
            "epoch: 10\n",
            "training loss: 0.036578, acc 98.866669\n",
            "validation loss: 0.000596, acc 98.939995\n",
            "epoch: 11\n",
            "training loss: 0.034752, acc 98.950005\n",
            "validation loss: 0.000375, acc 98.699997\n",
            "epoch: 12\n",
            "training loss: 0.031810, acc 99.026672\n",
            "validation loss: 0.000493, acc 98.979996\n",
            "epoch: 13\n",
            "training loss: 0.029074, acc 99.111671\n",
            "validation loss: 0.000977, acc 98.829994\n",
            "epoch: 14\n",
            "training loss: 0.026958, acc 99.201668\n",
            "validation loss: 0.000225, acc 99.040001\n",
            "epoch: 15\n",
            "training loss: 0.025203, acc 99.233337\n",
            "validation loss: 0.000025, acc 98.919998\n"
          ],
          "name": "stdout"
        }
      ]
    },
    {
      "cell_type": "code",
      "metadata": {
        "colab": {
          "base_uri": "https://localhost:8080/",
          "height": 283
        },
        "id": "c_zTcwVJrons",
        "outputId": "64df09b8-fb07-40b4-8b3e-ce566fd32a05"
      },
      "source": [
        "plt.plot(losses, label='training loss')\n",
        "plt.plot(val_losses, label='validation loss')\n",
        "plt.legend()"
      ],
      "execution_count": 18,
      "outputs": [
        {
          "output_type": "execute_result",
          "data": {
            "text/plain": [
              "<matplotlib.legend.Legend at 0x7f39bdf2da90>"
            ]
          },
          "metadata": {
            "tags": []
          },
          "execution_count": 18
        },
        {
          "output_type": "display_data",
          "data": {
            "image/png": "[encoded data removed]",
            "text/plain": [
              "<Figure size 432x288 with 1 Axes>"
            ]
          },
          "metadata": {
            "tags": [],
            "needs_background": "light"
          }
        }
      ]
    },
    {
      "cell_type": "code",
      "metadata": {
        "colab": {
          "base_uri": "https://localhost:8080/",
          "height": 282
        },
        "id": "3B-4GqyDtZli",
        "outputId": "ed7402da-17a0-41f5-ed56-aa01dc1daadc"
      },
      "source": [
        "plt.plot(accuracy, label='training accuracy')\n",
        "plt.plot(val_accuracies, label = 'validation accuracy')\n",
        "plt.legend()"
      ],
      "execution_count": 19,
      "outputs": [
        {
          "output_type": "execute_result",
          "data": {
            "text/plain": [
              "<matplotlib.legend.Legend at 0x7f39bcd9bc50>"
            ]
          },
          "metadata": {
            "tags": []
          },
          "execution_count": 19
        },
        {
          "output_type": "display_data",
          "data": {
            "image/png": "[encoded data removed]",
            "text/plain": [
              "<Figure size 432x288 with 1 Axes>"
            ]
          },
          "metadata": {
            "tags": [],
            "needs_background": "light"
          }
        }
      ]
    },
    {
      "cell_type": "code",
      "metadata": {
        "colab": {
          "base_uri": "https://localhost:8080/",
          "height": 233
        },
        "id": "Thr602jKbOTn",
        "outputId": "d1515c99-64c8-4768-ffbf-80af90ebfffe"
      },
      "source": [
        "dataiter = iter(validation_loader)\n",
        "images, labels = dataiter.next()\n",
        "images = images.to(device)\n",
        "labels = labels.to(device)\n",
        "output = model(images)\n",
        "_, preds = torch.max(output, 1)\n",
        "\n",
        "fig = plt.figure(figsize=(25, 4))\n",
        "\n",
        "for idx in np.arange(20):\n",
        "  ax = fig.add_subplot(2, 10, idx+1, xticks=[], yticks=[])\n",
        "  plt.imshow(im_convert(images[idx]))\n",
        "  ax.set_title(\"{} ({})\".format(str(preds[idx].item()), str(labels[idx].item())), color=(\"green\" if preds[idx]==labels[idx] else \"red\"))"
      ],
      "execution_count": 30,
      "outputs": [
        {
          "output_type": "display_data",
          "data": {
            "image/png": "[encoded data removed]",
            "text/plain": [
              "<Figure size 1800x288 with 20 Axes>"
            ]
          },
          "metadata": {
            "tags": []
          }
        }
      ]
    }
  ]
}