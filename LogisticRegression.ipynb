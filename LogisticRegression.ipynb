{
  "nbformat": 4,
  "nbformat_minor": 0,
  "metadata": {
    "colab": {
      "name": "LogisticRegression.ipynb",
      "provenance": [],
      "authorship_tag": "ABX9TyOwGLhUY9FqahkUtCJ7KuTD",
      "include_colab_link": true
    },
    "kernelspec": {
      "name": "python3",
      "display_name": "Python 3"
    },
    "language_info": {
      "name": "python"
    }
  },
  "cells": [
    {
      "cell_type": "markdown",
      "metadata": {
        "id": "view-in-github",
        "colab_type": "text"
      },
      "source": [
        "<a href=\"https://colab.research.google.com/github/AnupamaRajkumar/PyTorchTutorials/blob/main/LogisticRegression.ipynb\" target=\"_parent\"><img src=\"https://colab.research.google.com/assets/colab-badge.svg\" alt=\"Open In Colab\"/></a>"
      ]
    },
    {
      "cell_type": "code",
      "metadata": {
        "colab": {
          "base_uri": "https://localhost:8080/"
        },
        "id": "TwccV_vgNI6L",
        "outputId": "dd3df583-5cad-43df-9ae2-2776b4ce923d"
      },
      "source": [
        "!pip3 install torch"
      ],
      "execution_count": 111,
      "outputs": [
        {
          "output_type": "stream",
          "text": [
            "Requirement already satisfied: torch in /usr/local/lib/python3.7/dist-packages (1.8.0+cu101)\n",
            "Requirement already satisfied: typing-extensions in /usr/local/lib/python3.7/dist-packages (from torch) (3.7.4.3)\n",
            "Requirement already satisfied: numpy in /usr/local/lib/python3.7/dist-packages (from torch) (1.19.5)\n"
          ],
          "name": "stdout"
        }
      ]
    },
    {
      "cell_type": "code",
      "metadata": {
        "id": "LMZWZIVK1Noi"
      },
      "source": [
        "import torch\n",
        "import numpy as np\n",
        "import matplotlib.pyplot as plt\n",
        "import torch.nn as nn\n",
        "from sklearn import datasets"
      ],
      "execution_count": 112,
      "outputs": []
    },
    {
      "cell_type": "code",
      "metadata": {
        "colab": {
          "base_uri": "https://localhost:8080/"
        },
        "id": "lpRtTopR1RXr",
        "outputId": "fa29a845-48ee-481b-ca9e-0d4dfebc6890"
      },
      "source": [
        "n_pts = 100\n",
        "centers = [[-0.5, 0.5], [0.5, -0.5]]\n",
        "X, y = datasets.make_blobs(n_samples=n_pts, random_state=123, centers=centers, cluster_std=0.5)  #random_state seeds the generators\n",
        "#converting to tensors\n",
        "data = torch.Tensor(X)\n",
        "print(data.shape)\n",
        "label = torch.Tensor(y.reshape(100, 1))\n",
        "print(label.shape)"
      ],
      "execution_count": 113,
      "outputs": [
        {
          "output_type": "stream",
          "text": [
            "torch.Size([100, 2])\n",
            "torch.Size([100, 1])\n"
          ],
          "name": "stdout"
        }
      ]
    },
    {
      "cell_type": "code",
      "metadata": {
        "colab": {
          "base_uri": "https://localhost:8080/",
          "height": 282
        },
        "id": "-TcAQcff3KTI",
        "outputId": "ded147e6-0e6c-40fa-8902-71de5ca19e27"
      },
      "source": [
        "plt.scatter(X[y==0, 0], X[y==0, 1])\n",
        "plt.scatter(X[y==1, 0], X[y==1, 1])"
      ],
      "execution_count": 114,
      "outputs": [
        {
          "output_type": "execute_result",
          "data": {
            "text/plain": [
              "<matplotlib.collections.PathCollection at 0x7f3cb5fd8dd0>"
            ]
          },
          "metadata": {
            "tags": []
          },
          "execution_count": 114
        },
        {
          "output_type": "display_data",
          "data": {
            "image/png": "[encoded data removed]",
            "text/plain": [
              "<Figure size 432x288 with 1 Axes>"
            ]
          },
          "metadata": {
            "tags": [],
            "needs_background": "light"
          }
        }
      ]
    },
    {
      "cell_type": "code",
      "metadata": {
        "id": "2cK8w3qr4eCa"
      },
      "source": [
        "def scatter_plot():\n",
        "  plt.plot(X[y==0, 0], X[y==0, 1], 'bo')  #label 0 - blue\n",
        "  plt.plot(X[y==1, 0], X[y==1, 1], 'ro')  #label 1 - red"
      ],
      "execution_count": 115,
      "outputs": []
    },
    {
      "cell_type": "code",
      "metadata": {
        "colab": {
          "base_uri": "https://localhost:8080/",
          "height": 265
        },
        "id": "fpy1yW-nTxCj",
        "outputId": "c9f8c31e-e217-465b-900e-496eccbae2cf"
      },
      "source": [
        "scatter_plot()"
      ],
      "execution_count": 116,
      "outputs": [
        {
          "output_type": "display_data",
          "data": {
            "image/png": "[encoded data removed]",
            "text/plain": [
              "<Figure size 432x288 with 1 Axes>"
            ]
          },
          "metadata": {
            "tags": [],
            "needs_background": "light"
          }
        }
      ]
    },
    {
      "cell_type": "code",
      "metadata": {
        "id": "g_xvci_DQh6G"
      },
      "source": [
        "class Model(nn.Module):\n",
        "  def __init__(self, input_size, output_size):\n",
        "    super().__init__()\n",
        "    self.linear = nn.Linear(input_size, output_size)\n",
        "\n",
        "  def forward(self, x):\n",
        "    pred = torch.sigmoid(self.linear(x))\n",
        "    return pred\n",
        "\n",
        "  def predict(self, x):\n",
        "    pred = self.forward(x)\n",
        "    if(pred >= 0.5):\n",
        "      return 1\n",
        "    else:\n",
        "      return 0"
      ],
      "execution_count": 117,
      "outputs": []
    },
    {
      "cell_type": "code",
      "metadata": {
        "colab": {
          "base_uri": "https://localhost:8080/"
        },
        "id": "aOPTIbk_Ra7d",
        "outputId": "19135649-a4e4-479f-dbae-120be72d863a"
      },
      "source": [
        "torch.manual_seed(2)\n",
        "model = Model(2, 1)\n",
        "print(list(model.parameters()))"
      ],
      "execution_count": 118,
      "outputs": [
        {
          "output_type": "stream",
          "text": [
            "[Parameter containing:\n",
            "tensor([[ 0.1622, -0.1683]], requires_grad=True), Parameter containing:\n",
            "tensor([0.1939], requires_grad=True)]\n"
          ],
          "name": "stdout"
        }
      ]
    },
    {
      "cell_type": "code",
      "metadata": {
        "id": "MVIG0upzR2xD"
      },
      "source": [
        "[w, b] = model.parameters()\n",
        "w1, w2 = w.view(2)\n",
        "def get_params():\n",
        "  return(w1.item(), w2.item(), b[0].item()) "
      ],
      "execution_count": 119,
      "outputs": []
    },
    {
      "cell_type": "code",
      "metadata": {
        "id": "E-QYCUcHSn7b"
      },
      "source": [
        "def plot_fit(title):\n",
        "  plt.title = title\n",
        "  #equation of line\n",
        "  #w1x1 + w2x2 + b = 0\n",
        "  w1, w2, b1 = get_params()\n",
        "  x1 = np.array([-2.0, 2.0])\n",
        "  x2 = -(w1*x1 + b1)/w2\n",
        "  plt.plot(x1, x2, 'r')\n",
        "  scatter_plot()\n",
        "  plt.show()"
      ],
      "execution_count": 120,
      "outputs": []
    },
    {
      "cell_type": "code",
      "metadata": {
        "colab": {
          "base_uri": "https://localhost:8080/",
          "height": 265
        },
        "id": "Lkdehqr8T41L",
        "outputId": "c58f8954-0c9b-4e3e-a3d6-4b19eaa75e67"
      },
      "source": [
        "plot_fit('Initial Model')"
      ],
      "execution_count": 121,
      "outputs": [
        {
          "output_type": "display_data",
          "data": {
            "image/png": "[encoded data removed]",
            "text/plain": [
              "<Figure size 432x288 with 1 Axes>"
            ]
          },
          "metadata": {
            "tags": [],
            "needs_background": "light"
          }
        }
      ]
    },
    {
      "cell_type": "markdown",
      "metadata": {
        "id": "YpJvCNicUMFm"
      },
      "source": [
        "Model training"
      ]
    },
    {
      "cell_type": "code",
      "metadata": {
        "id": "8XxmnBODUN0-"
      },
      "source": [
        "criterion = nn.BCELoss()\n",
        "optimiser = torch.optim.SGD(model.parameters(), lr = 0.01)"
      ],
      "execution_count": 122,
      "outputs": []
    },
    {
      "cell_type": "code",
      "metadata": {
        "id": "KwxZgWMDUdee"
      },
      "source": [
        "epochs = 1000\n",
        "losses = []\n",
        "for e in range(epochs):\n",
        "  y_pred = model.forward(data)  \n",
        "  loss = criterion(y_pred, label)\n",
        "  print(\"epoch:\", e, \"loss:\", loss.item())\n",
        "  losses.append(loss)\n",
        "  optimiser.zero_grad()\n",
        "  loss.backward()\n",
        "  optimiser.step()"
      ],
      "execution_count": null,
      "outputs": []
    },
    {
      "cell_type": "code",
      "metadata": {
        "colab": {
          "base_uri": "https://localhost:8080/",
          "height": 296
        },
        "id": "I-ouF3hhXgbz",
        "outputId": "aaaba880-ccad-4a47-9dab-344d6767faa8"
      },
      "source": [
        "plt.plot(range(epochs), losses)\n",
        "plt.xlabel('Loss')\n",
        "plt.ylabel('epochs')"
      ],
      "execution_count": 124,
      "outputs": [
        {
          "output_type": "execute_result",
          "data": {
            "text/plain": [
              "Text(0, 0.5, 'epochs')"
            ]
          },
          "metadata": {
            "tags": []
          },
          "execution_count": 124
        },
        {
          "output_type": "display_data",
          "data": {
            "image/png": "[encoded data removed]",
            "text/plain": [
              "<Figure size 432x288 with 1 Axes>"
            ]
          },
          "metadata": {
            "tags": [],
            "needs_background": "light"
          }
        }
      ]
    },
    {
      "cell_type": "code",
      "metadata": {
        "colab": {
          "base_uri": "https://localhost:8080/",
          "height": 332
        },
        "id": "xaee5WtqW2qd",
        "outputId": "e0e41d74-75c6-4826-970f-65d3807e2075"
      },
      "source": [
        "#running prediction\n",
        "point1 = torch.Tensor([1.0, -1.0])\n",
        "point2 = torch.Tensor([-1.25, 1.0])\n",
        "plt.plot(point1.numpy()[0], point1.numpy()[1], 'go')\n",
        "plt.plot(point2.numpy()[0], point2.numpy()[1], 'ko')\n",
        "print(\"Green point positive probability is = {}\".format(model.forward(point1).item()))  #expected probability should be close to 1\n",
        "print(\"Black point positive probability is = {}\".format(model.forward(point2).item()))  #expected probability should be close to 0\n",
        "print(\"Green point is in class = {}\".format(model.predict(point1)))          #predicted class should be 1\n",
        "print(\"Black point is in class = {}\".format(model.predict(point2)))          #predicted class should be 0\n",
        "plot_fit('Target Model')"
      ],
      "execution_count": 125,
      "outputs": [
        {
          "output_type": "stream",
          "text": [
            "Green point positive probability is = 0.9326364398002625\n",
            "Black point positive probability is = 0.041176699101924896\n",
            "Green point is in class = 1\n",
            "Black point is in class = 0\n"
          ],
          "name": "stdout"
        },
        {
          "output_type": "display_data",
          "data": {
            "image/png": "[encoded data removed]",
            "text/plain": [
              "<Figure size 432x288 with 1 Axes>"
            ]
          },
          "metadata": {
            "tags": [],
            "needs_background": "light"
          }
        }
      ]
    }
  ]
}