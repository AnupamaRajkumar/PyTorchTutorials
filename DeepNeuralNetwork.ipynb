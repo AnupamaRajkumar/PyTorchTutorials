{
  "nbformat": 4,
  "nbformat_minor": 0,
  "metadata": {
    "colab": {
      "name": "DeepNeuralNetwork.ipynb",
      "provenance": [],
      "authorship_tag": "ABX9TyNJjA2WKzibD0ztR44qeYuy",
      "include_colab_link": true
    },
    "kernelspec": {
      "name": "python3",
      "display_name": "Python 3"
    },
    "language_info": {
      "name": "python"
    }
  },
  "cells": [
    {
      "cell_type": "markdown",
      "metadata": {
        "id": "view-in-github",
        "colab_type": "text"
      },
      "source": [
        "<a href=\"https://colab.research.google.com/github/AnupamaRajkumar/PyTorchTutorials/blob/main/DeepNeuralNetwork.ipynb\" target=\"_parent\"><img src=\"https://colab.research.google.com/assets/colab-badge.svg\" alt=\"Open In Colab\"/></a>"
      ]
    },
    {
      "cell_type": "markdown",
      "metadata": {
        "id": "G_QPHxBRjDJ7"
      },
      "source": [
        "Working with non-linear boundaries\\\n",
        "General steps are:\n",
        "1. Feedforward network : predict all outputs\n",
        "2. Cross entropy : Determine total error\n",
        "3. Backpropagation to reduce the loss and improve prediction\n",
        "4. Repeat the above steps at some learning rate to go on reducing the loss and \n",
        "for the model to converge"
      ]
    },
    {
      "cell_type": "code",
      "metadata": {
        "colab": {
          "base_uri": "https://localhost:8080/"
        },
        "id": "Lq4vpWYzffOD",
        "outputId": "66f10a56-80e9-4e0c-bae7-a8b36c2b0a6e"
      },
      "source": [
        "  !pip3 install torch"
      ],
      "execution_count": 43,
      "outputs": [
        {
          "output_type": "stream",
          "text": [
            "Requirement already satisfied: torch in /usr/local/lib/python3.7/dist-packages (1.8.0+cu101)\n",
            "Requirement already satisfied: typing-extensions in /usr/local/lib/python3.7/dist-packages (from torch) (3.7.4.3)\n",
            "Requirement already satisfied: numpy in /usr/local/lib/python3.7/dist-packages (from torch) (1.19.5)\n"
          ],
          "name": "stdout"
        }
      ]
    },
    {
      "cell_type": "code",
      "metadata": {
        "id": "XFntV_SPHP5r"
      },
      "source": [
        "import torch\n",
        "import numpy as np\n",
        "import matplotlib.pyplot as plt\n",
        "import torch.nn as nn\n",
        "from sklearn import datasets"
      ],
      "execution_count": 44,
      "outputs": []
    },
    {
      "cell_type": "code",
      "metadata": {
        "id": "YF2DAYsRHaOl"
      },
      "source": [
        "n_pts = 500\n",
        "X, y = datasets.make_circles(n_samples=n_pts, random_state=123, noise=0.1, factor=0.2)\n",
        "data = torch.Tensor(X)\n",
        "label = torch.Tensor(y.reshape(500, 1))"
      ],
      "execution_count": 45,
      "outputs": []
    },
    {
      "cell_type": "code",
      "metadata": {
        "id": "4NfUtUZbH16f"
      },
      "source": [
        "def scatter_plot():\n",
        "  plt.plot(X[y==0, 0], X[y==0, 1], 'bo')\n",
        "  plt.plot(X[y==1, 0], X[y==1, 1], 'ro')"
      ],
      "execution_count": 46,
      "outputs": []
    },
    {
      "cell_type": "code",
      "metadata": {
        "colab": {
          "base_uri": "https://localhost:8080/",
          "height": 265
        },
        "id": "C-bgEzBbIGux",
        "outputId": "b719e1f6-da7f-4ab5-8a49-7a7c300b85a6"
      },
      "source": [
        "scatter_plot()"
      ],
      "execution_count": 47,
      "outputs": [
        {
          "output_type": "display_data",
          "data": {
            "image/png": "[encoded data removed]",
            "text/plain": [
              "<Figure size 432x288 with 1 Axes>"
            ]
          },
          "metadata": {
            "tags": [],
            "needs_background": "light"
          }
        }
      ]
    },
    {
      "cell_type": "code",
      "metadata": {
        "id": "fwL8hXTkJ8Cc"
      },
      "source": [
        "class Model(nn.Module):\n",
        "  def __init__(self, input_size, H1, output_size):\n",
        "    super().__init__()\n",
        "    self.linear = nn.Linear(input_size, H1)\n",
        "    self.linear2 = nn.Linear(H1, output_size)\n",
        "\n",
        "  def forward(self, x):\n",
        "    h = torch.sigmoid(self.linear(x))\n",
        "    o = torch.sigmoid(self.linear2(h))\n",
        "    return o\n",
        "\n",
        "  def predict(self, x):\n",
        "    pred = self.forward(x)\n",
        "    if(pred >= 0.5):\n",
        "      return 1\n",
        "    else:\n",
        "      return 0"
      ],
      "execution_count": 48,
      "outputs": []
    },
    {
      "cell_type": "code",
      "metadata": {
        "colab": {
          "base_uri": "https://localhost:8080/"
        },
        "id": "zqcwPpbILWij",
        "outputId": "2729535e-d5b4-4824-ab42-d1a11315cc1d"
      },
      "source": [
        "torch.manual_seed(2)\n",
        "model = Model(2, 4, 1)\n",
        "print(list(model.parameters()))"
      ],
      "execution_count": 49,
      "outputs": [
        {
          "output_type": "stream",
          "text": [
            "[Parameter containing:\n",
            "tensor([[ 0.1622, -0.1683],\n",
            "        [ 0.1939, -0.0361],\n",
            "        [ 0.3021,  0.1683],\n",
            "        [-0.0813, -0.5717]], requires_grad=True), Parameter containing:\n",
            "tensor([ 0.1614, -0.6260,  0.0929,  0.0470], requires_grad=True), Parameter containing:\n",
            "tensor([[-0.1099,  0.4088,  0.0334,  0.2073]], requires_grad=True), Parameter containing:\n",
            "tensor([0.2116], requires_grad=True)]\n"
          ],
          "name": "stdout"
        }
      ]
    },
    {
      "cell_type": "code",
      "metadata": {
        "id": "hUq6Efy1L2DZ"
      },
      "source": [
        "criterion = nn.BCELoss()\n",
        "optimizer = torch.optim.Adam(model.parameters(), lr=0.1)"
      ],
      "execution_count": 50,
      "outputs": []
    },
    {
      "cell_type": "code",
      "metadata": {
        "id": "AJzqJjvmMREE"
      },
      "source": [
        "epochs = 1000\n",
        "losses = []\n",
        "for e in range(epochs):\n",
        "  y_pred = model.forward(data)\n",
        "  loss = criterion(y_pred, label)\n",
        "  losses.append(loss)\n",
        "  print(\"epoch:\", e, \"loss:\", loss.item())\n",
        "  optimizer.zero_grad()\n",
        "  loss.backward()\n",
        "  optimizer.step()"
      ],
      "execution_count": null,
      "outputs": []
    },
    {
      "cell_type": "code",
      "metadata": {
        "colab": {
          "base_uri": "https://localhost:8080/",
          "height": 296
        },
        "id": "pVtIJ8BQMrWZ",
        "outputId": "991082d9-781f-4a14-b00b-3bedd245d270"
      },
      "source": [
        "plt.plot(range(epochs), losses)\n",
        "plt.xlabel('Loss')\n",
        "plt.ylabel('epoch')"
      ],
      "execution_count": 52,
      "outputs": [
        {
          "output_type": "execute_result",
          "data": {
            "text/plain": [
              "Text(0, 0.5, 'epoch')"
            ]
          },
          "metadata": {
            "tags": []
          },
          "execution_count": 52
        },
        {
          "output_type": "display_data",
          "data": {
            "image/png": "[encoded data removed]",
            "text/plain": [
              "<Figure size 432x288 with 1 Axes>"
            ]
          },
          "metadata": {
            "tags": [],
            "needs_background": "light"
          }
        }
      ]
    },
    {
      "cell_type": "code",
      "metadata": {
        "id": "igs4gXcwNhoE"
      },
      "source": [
        "def plot_decision_boundary(X, y):\n",
        "  x_span = np.linspace(min(X[:, 0]) - 0.25, max(X[:, 0]) + 0.25)\n",
        "  y_span = np.linspace(min(X[:, 1]) - 0.25, max(X[:, 1]) + 0.25)\n",
        "  xx, yy = np.meshgrid(x_span, y_span)\n",
        "  grid = torch.Tensor(np.c_[xx.ravel(), yy.ravel()])\n",
        "  pred_func = model.forward(grid)\n",
        "  z = pred_func.view(xx.shape).detach().numpy()\n",
        "  plt.contourf(xx, yy, z)\n"
      ],
      "execution_count": 59,
      "outputs": []
    },
    {
      "cell_type": "code",
      "metadata": {
        "colab": {
          "base_uri": "https://localhost:8080/",
          "height": 265
        },
        "id": "Uv164hf5NxuP",
        "outputId": "8e10151e-0cb0-4032-feaf-a1917985a577"
      },
      "source": [
        "plot_decision_boundary(X, y)\n",
        "scatter_plot()"
      ],
      "execution_count": 60,
      "outputs": [
        {
          "output_type": "display_data",
          "data": {
            "image/png": "[encoded data removed]",
            "text/plain": [
              "<Figure size 432x288 with 1 Axes>"
            ]
          },
          "metadata": {
            "tags": [],
            "needs_background": "light"
          }
        }
      ]
    },
    {
      "cell_type": "code",
      "metadata": {
        "colab": {
          "base_uri": "https://localhost:8080/",
          "height": 282
        },
        "id": "I_tO_Nw1RHCy",
        "outputId": "bf158bdd-3774-4341-c4b6-6cf0e4cd0e53"
      },
      "source": [
        "x = 0.025\n",
        "y = 0.025\n",
        "point = torch.Tensor([x, y])\n",
        "prediction = model.predict(point)\n",
        "plt.plot([x], [y], marker = 'o', markersize = 10, color = \"black\")\n",
        "print(\"Prediction is\", prediction)\n",
        "plot_decision_boundary(X, y)"
      ],
      "execution_count": 62,
      "outputs": [
        {
          "output_type": "stream",
          "text": [
            "Prediction is 1\n"
          ],
          "name": "stdout"
        },
        {
          "output_type": "display_data",
          "data": {
            "image/png": "[encoded data removed]",
            "text/plain": [
              "<Figure size 432x288 with 1 Axes>"
            ]
          },
          "metadata": {
            "tags": [],
            "needs_background": "light"
          }
        }
      ]
    }
  ]
}