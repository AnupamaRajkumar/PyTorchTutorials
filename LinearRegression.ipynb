{
  "nbformat": 4,
  "nbformat_minor": 0,
  "metadata": {
    "colab": {
      "name": "LinearRegression.ipynb",
      "provenance": [],
      "collapsed_sections": [],
      "authorship_tag": "ABX9TyOphG+mS4D3eh0fyRcy7Tqx",
      "include_colab_link": true
    },
    "kernelspec": {
      "name": "python3",
      "display_name": "Python 3"
    }
  },
  "cells": [
    {
      "cell_type": "markdown",
      "metadata": {
        "id": "view-in-github",
        "colab_type": "text"
      },
      "source": [
        "<a href=\"https://colab.research.google.com/github/AnupamaRajkumar/PyTorchTutorials/blob/main/LinearRegression.ipynb\" target=\"_parent\"><img src=\"https://colab.research.google.com/assets/colab-badge.svg\" alt=\"Open In Colab\"/></a>"
      ]
    },
    {
      "cell_type": "code",
      "metadata": {
        "colab": {
          "base_uri": "https://localhost:8080/"
        },
        "id": "JX0HOe39SZqq",
        "outputId": "cf890a8b-ef6d-48b8-8715-40bbaa10e0a8"
      },
      "source": [
        "!pip3 install torch"
      ],
      "execution_count": 1,
      "outputs": [
        {
          "output_type": "stream",
          "text": [
            "Requirement already satisfied: torch in /usr/local/lib/python3.7/dist-packages (1.8.0+cu101)\n",
            "Requirement already satisfied: typing-extensions in /usr/local/lib/python3.7/dist-packages (from torch) (3.7.4.3)\n",
            "Requirement already satisfied: numpy in /usr/local/lib/python3.7/dist-packages (from torch) (1.19.5)\n"
          ],
          "name": "stdout"
        }
      ]
    },
    {
      "cell_type": "code",
      "metadata": {
        "id": "gTPrtSiWSFxk"
      },
      "source": [
        "import torch\r\n",
        "import numpy as np"
      ],
      "execution_count": 2,
      "outputs": []
    },
    {
      "cell_type": "code",
      "metadata": {
        "id": "7zJzW-c5S55e"
      },
      "source": [
        "w = torch.tensor(3.0, requires_grad=True)\r\n",
        "b = torch.tensor(1.0, requires_grad=True)"
      ],
      "execution_count": 3,
      "outputs": []
    },
    {
      "cell_type": "code",
      "metadata": {
        "id": "SWKL2rehTaDv"
      },
      "source": [
        "def forward(x):\r\n",
        "   y = w*x + b\r\n",
        "   return y"
      ],
      "execution_count": 4,
      "outputs": []
    },
    {
      "cell_type": "code",
      "metadata": {
        "colab": {
          "base_uri": "https://localhost:8080/"
        },
        "id": "s3sriHT5Thor",
        "outputId": "ae5fdaed-5785-4bf9-df7b-1ac1a24a527b"
      },
      "source": [
        "x = torch.tensor([[4], [7]])\r\n",
        "forward(x)"
      ],
      "execution_count": 5,
      "outputs": [
        {
          "output_type": "execute_result",
          "data": {
            "text/plain": [
              "tensor([[13.],\n",
              "        [22.]], grad_fn=<AddBackward0>)"
            ]
          },
          "metadata": {
            "tags": []
          },
          "execution_count": 5
        }
      ]
    },
    {
      "cell_type": "markdown",
      "metadata": {
        "id": "qJWHD2_pYbD5"
      },
      "source": [
        "Linear Regression"
      ]
    },
    {
      "cell_type": "code",
      "metadata": {
        "id": "GtuLby5xYane"
      },
      "source": [
        "from torch.nn import Linear"
      ],
      "execution_count": 6,
      "outputs": []
    },
    {
      "cell_type": "code",
      "metadata": {
        "colab": {
          "base_uri": "https://localhost:8080/"
        },
        "id": "4RE1s4IaYk2m",
        "outputId": "32bc7b1c-e6fb-471a-a4c5-33e10b5a675e"
      },
      "source": [
        "#random initialisation \r\n",
        "torch.manual_seed(1)\r\n",
        "#creating a linear model\r\n",
        "model = Linear(in_features=1, out_features=1)\r\n",
        "print(model.bias, model.weight)"
      ],
      "execution_count": 7,
      "outputs": [
        {
          "output_type": "stream",
          "text": [
            "Parameter containing:\n",
            "tensor([-0.4414], requires_grad=True) Parameter containing:\n",
            "tensor([[0.5153]], requires_grad=True)\n"
          ],
          "name": "stdout"
        }
      ]
    },
    {
      "cell_type": "code",
      "metadata": {
        "colab": {
          "base_uri": "https://localhost:8080/"
        },
        "id": "DvHatU8VZCcm",
        "outputId": "b2948674-d1ba-4abe-d91a-63525e32dabe"
      },
      "source": [
        "x = torch.tensor(([2.0], [3.3]))\r\n",
        "print(model(x))"
      ],
      "execution_count": 8,
      "outputs": [
        {
          "output_type": "stream",
          "text": [
            "tensor([[0.5891],\n",
            "        [1.2590]], grad_fn=<AddmmBackward>)\n"
          ],
          "name": "stdout"
        }
      ]
    },
    {
      "cell_type": "code",
      "metadata": {
        "colab": {
          "base_uri": "https://localhost:8080/"
        },
        "id": "BAytSvA2EXW8",
        "outputId": "0f580f99-4565-4ff8-b299-a971802bda1c"
      },
      "source": [
        "input = torch.randn(128, 20)\r\n",
        "m = Linear(20, 30)\r\n",
        "output = m(input)\r\n",
        "print(output)\r\n",
        "print(output.size())\r\n",
        "print(m.weight.size())\r\n",
        "print(m.bias.shape)"
      ],
      "execution_count": 9,
      "outputs": [
        {
          "output_type": "stream",
          "text": [
            "tensor([[ 0.7338,  0.1468, -0.3396,  ..., -0.1721,  0.9817,  0.5043],\n",
            "        [ 0.3692, -0.4219,  0.0092,  ...,  0.3918,  0.3201,  0.7491],\n",
            "        [-0.6178,  1.1036, -0.1939,  ...,  0.2874,  0.1888,  0.3217],\n",
            "        ...,\n",
            "        [ 0.0972,  0.2240, -0.9096,  ...,  0.8566,  0.2864, -0.6303],\n",
            "        [-0.5258,  1.1659,  0.4289,  ...,  0.3938, -1.4387, -0.0125],\n",
            "        [-0.4303,  0.0483,  0.1522,  ...,  0.1868, -0.5421, -0.6896]],\n",
            "       grad_fn=<AddmmBackward>)\n",
            "torch.Size([128, 30])\n",
            "torch.Size([30, 20])\n",
            "torch.Size([30])\n"
          ],
          "name": "stdout"
        }
      ]
    },
    {
      "cell_type": "code",
      "metadata": {
        "colab": {
          "base_uri": "https://localhost:8080/"
        },
        "id": "A9TUB8HWIf2k",
        "outputId": "cb777262-fb19-429f-9106-d1a7ff42b3f2"
      },
      "source": [
        "print(m.bias)"
      ],
      "execution_count": 10,
      "outputs": [
        {
          "output_type": "stream",
          "text": [
            "Parameter containing:\n",
            "tensor([ 0.1750,  0.1143, -0.0731, -0.1391,  0.2202,  0.0242, -0.1928, -0.0791,\n",
            "         0.0154, -0.0214, -0.0865,  0.0663, -0.1518,  0.0936, -0.1509,  0.1803,\n",
            "         0.1794,  0.2216, -0.2192, -0.0820, -0.0448, -0.2065,  0.1005, -0.0907,\n",
            "        -0.0041,  0.1070, -0.1747,  0.0308, -0.0980,  0.1569],\n",
            "       requires_grad=True)\n"
          ],
          "name": "stdout"
        }
      ]
    },
    {
      "cell_type": "markdown",
      "metadata": {
        "id": "zdTkJ0BnKuWh"
      },
      "source": [
        "The above implemented Linear model is same as the performing the following operations"
      ]
    },
    {
      "cell_type": "code",
      "metadata": {
        "colab": {
          "base_uri": "https://localhost:8080/"
        },
        "id": "47nQ-gSCItap",
        "outputId": "cc409063-e740-4082-c026-7cc5be6d9acb"
      },
      "source": [
        "mul1 = input @ m.weight.T\r\n",
        "print(mul1.shape)\r\n",
        "\r\n",
        "output = mul1 + m.bias\r\n",
        "print(output.shape)\r\n",
        "print(output)"
      ],
      "execution_count": 11,
      "outputs": [
        {
          "output_type": "stream",
          "text": [
            "torch.Size([128, 30])\n",
            "torch.Size([128, 30])\n",
            "tensor([[ 0.7338,  0.1468, -0.3396,  ..., -0.1721,  0.9817,  0.5043],\n",
            "        [ 0.3692, -0.4219,  0.0092,  ...,  0.3918,  0.3201,  0.7491],\n",
            "        [-0.6178,  1.1036, -0.1939,  ...,  0.2874,  0.1888,  0.3217],\n",
            "        ...,\n",
            "        [ 0.0972,  0.2240, -0.9096,  ...,  0.8566,  0.2864, -0.6303],\n",
            "        [-0.5258,  1.1659,  0.4289,  ...,  0.3938, -1.4387, -0.0125],\n",
            "        [-0.4303,  0.0483,  0.1522,  ...,  0.1868, -0.5421, -0.6896]],\n",
            "       grad_fn=<AddBackward0>)\n"
          ],
          "name": "stdout"
        }
      ]
    },
    {
      "cell_type": "markdown",
      "metadata": {
        "id": "F67Xbi3YpTpw"
      },
      "source": [
        "Adding 2 matrices of different dimensions"
      ]
    },
    {
      "cell_type": "code",
      "metadata": {
        "colab": {
          "base_uri": "https://localhost:8080/"
        },
        "id": "MPkHcBiJb5N3",
        "outputId": "a6ca3e13-1e25-48b2-fb95-34f6d79c5f5f"
      },
      "source": [
        "m1 = np.array([[1,2],[3,4]])\r\n",
        "print(m1.shape)\r\n",
        "print(m1)\r\n",
        "m2 = np.array([5,6])\r\n",
        "print(m2)\r\n",
        "print(m2.shape)\r\n",
        "m3 = m1 + m2\r\n",
        "m3"
      ],
      "execution_count": 12,
      "outputs": [
        {
          "output_type": "stream",
          "text": [
            "(2, 2)\n",
            "[[1 2]\n",
            " [3 4]]\n",
            "[5 6]\n",
            "(2,)\n"
          ],
          "name": "stdout"
        },
        {
          "output_type": "execute_result",
          "data": {
            "text/plain": [
              "array([[ 6,  8],\n",
              "       [ 8, 10]])"
            ]
          },
          "metadata": {
            "tags": []
          },
          "execution_count": 12
        }
      ]
    },
    {
      "cell_type": "markdown",
      "metadata": {
        "id": "apEKf4mTaFro"
      },
      "source": [
        "Creating Custom Modules"
      ]
    },
    {
      "cell_type": "code",
      "metadata": {
        "id": "OS3xAaGdt8jj"
      },
      "source": [
        "import torch.nn as nn\r\n",
        "import matplotlib.pyplot as plt"
      ],
      "execution_count": 13,
      "outputs": []
    },
    {
      "cell_type": "markdown",
      "metadata": {
        "id": "GB-Ej0AdyHPM"
      },
      "source": [
        "Creating dataset"
      ]
    },
    {
      "cell_type": "code",
      "metadata": {
        "colab": {
          "base_uri": "https://localhost:8080/",
          "height": 296
        },
        "id": "KSAR5pG9yGVW",
        "outputId": "2a22ae14-af2f-4dd7-ce42-7b66596e42d5"
      },
      "source": [
        "X = torch.randn(100, 1)*10 #to setup a larger range of the values\r\n",
        "Y = X + 2*torch.randn(100, 1)  #adding noise\r\n",
        "plt.plot(X.numpy(), Y.numpy(), 'o')\r\n",
        "plt.ylabel('Y')\r\n",
        "plt.xlabel('X')"
      ],
      "execution_count": 14,
      "outputs": [
        {
          "output_type": "execute_result",
          "data": {
            "text/plain": [
              "Text(0.5, 0, 'X')"
            ]
          },
          "metadata": {
            "tags": []
          },
          "execution_count": 14
        },
        {
          "output_type": "display_data",
          "data": {
            "image/png": "[encoded data removed]",
            "text/plain": [
              "<Figure size 432x288 with 1 Axes>"
            ]
          },
          "metadata": {
            "tags": [],
            "needs_background": "light"
          }
        }
      ]
    },
    {
      "cell_type": "code",
      "metadata": {
        "id": "BIiTyWC3prHO"
      },
      "source": [
        "class LinearRegression(nn.Module):\r\n",
        "  def __init__(self, input_size, output_size):\r\n",
        "    super().__init__()\r\n",
        "    self.linear = nn.Linear(input_size, output_size)\r\n",
        "\r\n",
        "  def forward(self, x):\r\n",
        "    pred = self.linear(x)\r\n",
        "    return pred"
      ],
      "execution_count": 15,
      "outputs": []
    },
    {
      "cell_type": "code",
      "metadata": {
        "colab": {
          "base_uri": "https://localhost:8080/"
        },
        "id": "Tk8ukluBuYzE",
        "outputId": "78ac3aa8-ef8e-47d3-e5ec-ea48b4aef831"
      },
      "source": [
        "torch.manual_seed(1)\r\n",
        "model = LinearRegression(1, 1)\r\n",
        "print(list(model.parameters()))"
      ],
      "execution_count": 16,
      "outputs": [
        {
          "output_type": "stream",
          "text": [
            "[Parameter containing:\n",
            "tensor([[0.5153]], requires_grad=True), Parameter containing:\n",
            "tensor([-0.4414], requires_grad=True)]\n"
          ],
          "name": "stdout"
        }
      ]
    },
    {
      "cell_type": "code",
      "metadata": {
        "colab": {
          "base_uri": "https://localhost:8080/"
        },
        "id": "m63u5wi2uumn",
        "outputId": "bc761136-dfa7-4347-9719-242ad704e62e"
      },
      "source": [
        "x = torch.tensor([1.0])\r\n",
        "model.forward(x)"
      ],
      "execution_count": 17,
      "outputs": [
        {
          "output_type": "execute_result",
          "data": {
            "text/plain": [
              "tensor([0.0739], grad_fn=<AddBackward0>)"
            ]
          },
          "metadata": {
            "tags": []
          },
          "execution_count": 17
        }
      ]
    },
    {
      "cell_type": "code",
      "metadata": {
        "colab": {
          "base_uri": "https://localhost:8080/"
        },
        "id": "8aVK2wb4vRGh",
        "outputId": "0810b401-fce1-42dd-b422-e65c19b8e381"
      },
      "source": [
        "x = torch.tensor([[1.0], [2.0]])\r\n",
        "model.forward(x)"
      ],
      "execution_count": 18,
      "outputs": [
        {
          "output_type": "execute_result",
          "data": {
            "text/plain": [
              "tensor([[0.0739],\n",
              "        [0.5891]], grad_fn=<AddmmBackward>)"
            ]
          },
          "metadata": {
            "tags": []
          },
          "execution_count": 18
        }
      ]
    },
    {
      "cell_type": "code",
      "metadata": {
        "id": "Omw8Nlv8wY7l"
      },
      "source": [
        "[w, b] = model.parameters()\r\n",
        "#accessing the w and b tensors in w1 and b1\r\n",
        "#item() gives us python values from both tensor values\r\n",
        "def get_params():\r\n",
        "  return(w[0][0].item(), b[0].item())"
      ],
      "execution_count": 19,
      "outputs": []
    },
    {
      "cell_type": "code",
      "metadata": {
        "id": "W5CZh5Bj1Qlo"
      },
      "source": [
        "def plot_fit(title):\r\n",
        "  plt.title = title\r\n",
        "  w1, b1 = get_params()\r\n",
        "  x1 = np.array([-30, 30])\r\n",
        "  y1 = w1*x1 + b1\r\n",
        "  plt.plot(x1, y1, 'r')\r\n",
        "  plt.scatter(X, Y)\r\n",
        "  plt.show()"
      ],
      "execution_count": 20,
      "outputs": []
    },
    {
      "cell_type": "code",
      "metadata": {
        "colab": {
          "base_uri": "https://localhost:8080/",
          "height": 265
        },
        "id": "ML5XuO_T1zay",
        "outputId": "cc58f1dd-e79e-437c-a6af-d91bb57e089b"
      },
      "source": [
        "plot_fit('Initial Model')"
      ],
      "execution_count": 21,
      "outputs": [
        {
          "output_type": "display_data",
          "data": {
            "image/png": "[encoded data removed]",
            "text/plain": [
              "<Figure size 432x288 with 1 Axes>"
            ]
          },
          "metadata": {
            "tags": [],
            "needs_background": "light"
          }
        }
      ]
    },
    {
      "cell_type": "markdown",
      "metadata": {
        "id": "Jf2HP06ACxXj"
      },
      "source": [
        "Loss Function and Gradient Descent"
      ]
    },
    {
      "cell_type": "code",
      "metadata": {
        "id": "XTYil2ClC0sk"
      },
      "source": [
        "criterion = nn.MSELoss()\r\n",
        "optimizer = torch.optim.SGD(model.parameters(), lr = 0.01)"
      ],
      "execution_count": 22,
      "outputs": []
    },
    {
      "cell_type": "code",
      "metadata": {
        "colab": {
          "base_uri": "https://localhost:8080/"
        },
        "id": "0-MzRUIcHZPL",
        "outputId": "c88bf2c4-a416-44d2-b514-b6b9ded6fd27"
      },
      "source": [
        "epochs = 100\r\n",
        "losses = []\r\n",
        "for i in range(epochs):\r\n",
        "  y_pred = model.forward(X)\r\n",
        "  #calculate loss - MSE\r\n",
        "  loss = criterion(y_pred, Y)\r\n",
        "  print(\"epoch:\", i, \"loss:\", loss.item())\r\n",
        "  losses.append(loss)\r\n",
        "  #set gradients to zero - since gradients accumulate\r\n",
        "  optimizer.zero_grad()\r\n",
        "  #minimise the loss - take gradient of loss function using backward method\r\n",
        "  loss.backward()\r\n",
        "  #update model parameters using the optimiser initialised earlier\r\n",
        "  optimizer.step()"
      ],
      "execution_count": 23,
      "outputs": [
        {
          "output_type": "stream",
          "text": [
            "epoch: 0 loss: 28.232168197631836\n",
            "epoch: 1 loss: 22.020462036132812\n",
            "epoch: 2 loss: 17.36411476135254\n",
            "epoch: 3 loss: 13.873305320739746\n",
            "epoch: 4 loss: 11.25589370727539\n",
            "epoch: 5 loss: 9.293011665344238\n",
            "epoch: 6 loss: 7.820633411407471\n",
            "epoch: 7 loss: 6.715854644775391\n",
            "epoch: 8 loss: 5.886577606201172\n",
            "epoch: 9 loss: 5.263797760009766\n",
            "epoch: 10 loss: 4.795797824859619\n",
            "epoch: 11 loss: 4.443833827972412\n",
            "epoch: 12 loss: 4.178863048553467\n",
            "epoch: 13 loss: 3.979127883911133\n",
            "epoch: 14 loss: 3.8283212184906006\n",
            "epoch: 15 loss: 3.714221477508545\n",
            "epoch: 16 loss: 3.627669095993042\n",
            "epoch: 17 loss: 3.5617990493774414\n",
            "epoch: 18 loss: 3.511465549468994\n",
            "epoch: 19 loss: 3.4728140830993652\n",
            "epoch: 20 loss: 3.44295072555542\n",
            "epoch: 21 loss: 3.4197089672088623\n",
            "epoch: 22 loss: 3.401461124420166\n",
            "epoch: 23 loss: 3.386988639831543\n",
            "epoch: 24 loss: 3.375375270843506\n",
            "epoch: 25 loss: 3.3659353256225586\n",
            "epoch: 26 loss: 3.3581528663635254\n",
            "epoch: 27 loss: 3.35163950920105\n",
            "epoch: 28 loss: 3.3461034297943115\n",
            "epoch: 29 loss: 3.3413259983062744\n",
            "epoch: 30 loss: 3.3371407985687256\n",
            "epoch: 31 loss: 3.3334238529205322\n",
            "epoch: 32 loss: 3.3300795555114746\n",
            "epoch: 33 loss: 3.3270373344421387\n",
            "epoch: 34 loss: 3.3242413997650146\n",
            "epoch: 35 loss: 3.321650743484497\n",
            "epoch: 36 loss: 3.319232702255249\n",
            "epoch: 37 loss: 3.3169631958007812\n",
            "epoch: 38 loss: 3.3148233890533447\n",
            "epoch: 39 loss: 3.3127963542938232\n",
            "epoch: 40 loss: 3.3108716011047363\n",
            "epoch: 41 loss: 3.3090386390686035\n",
            "epoch: 42 loss: 3.3072898387908936\n",
            "epoch: 43 loss: 3.305619478225708\n",
            "epoch: 44 loss: 3.304020643234253\n",
            "epoch: 45 loss: 3.302489995956421\n",
            "epoch: 46 loss: 3.301023006439209\n",
            "epoch: 47 loss: 3.299616813659668\n",
            "epoch: 48 loss: 3.298267126083374\n",
            "epoch: 49 loss: 3.296971321105957\n",
            "epoch: 50 loss: 3.2957284450531006\n",
            "epoch: 51 loss: 3.294534683227539\n",
            "epoch: 52 loss: 3.2933876514434814\n",
            "epoch: 53 loss: 3.2922863960266113\n",
            "epoch: 54 loss: 3.2912285327911377\n",
            "epoch: 55 loss: 3.290212392807007\n",
            "epoch: 56 loss: 3.2892355918884277\n",
            "epoch: 57 loss: 3.288297653198242\n",
            "epoch: 58 loss: 3.287396192550659\n",
            "epoch: 59 loss: 3.2865302562713623\n",
            "epoch: 60 loss: 3.2856979370117188\n",
            "epoch: 61 loss: 3.284898042678833\n",
            "epoch: 62 loss: 3.2841296195983887\n",
            "epoch: 63 loss: 3.283390998840332\n",
            "epoch: 64 loss: 3.282681465148926\n",
            "epoch: 65 loss: 3.2819995880126953\n",
            "epoch: 66 loss: 3.2813446521759033\n",
            "epoch: 67 loss: 3.280714988708496\n",
            "epoch: 68 loss: 3.2801096439361572\n",
            "epoch: 69 loss: 3.2795279026031494\n",
            "epoch: 70 loss: 3.2789695262908936\n",
            "epoch: 71 loss: 3.2784323692321777\n",
            "epoch: 72 loss: 3.277916193008423\n",
            "epoch: 73 loss: 3.2774202823638916\n",
            "epoch: 74 loss: 3.2769439220428467\n",
            "epoch: 75 loss: 3.2764861583709717\n",
            "epoch: 76 loss: 3.276045799255371\n",
            "epoch: 77 loss: 3.275623083114624\n",
            "epoch: 78 loss: 3.275216579437256\n",
            "epoch: 79 loss: 3.2748262882232666\n",
            "epoch: 80 loss: 3.2744510173797607\n",
            "epoch: 81 loss: 3.274090528488159\n",
            "epoch: 82 loss: 3.2737438678741455\n",
            "epoch: 83 loss: 3.273411273956299\n",
            "epoch: 84 loss: 3.2730908393859863\n",
            "epoch: 85 loss: 3.2727832794189453\n",
            "epoch: 86 loss: 3.2724878787994385\n",
            "epoch: 87 loss: 3.2722036838531494\n",
            "epoch: 88 loss: 3.271930456161499\n",
            "epoch: 89 loss: 3.2716686725616455\n",
            "epoch: 90 loss: 3.271416664123535\n",
            "epoch: 91 loss: 3.271174669265747\n",
            "epoch: 92 loss: 3.270941734313965\n",
            "epoch: 93 loss: 3.2707180976867676\n",
            "epoch: 94 loss: 3.270503044128418\n",
            "epoch: 95 loss: 3.270297050476074\n",
            "epoch: 96 loss: 3.2700977325439453\n",
            "epoch: 97 loss: 3.269906997680664\n",
            "epoch: 98 loss: 3.269723415374756\n",
            "epoch: 99 loss: 3.269547700881958\n"
          ],
          "name": "stdout"
        }
      ]
    },
    {
      "cell_type": "code",
      "metadata": {
        "colab": {
          "base_uri": "https://localhost:8080/",
          "height": 296
        },
        "id": "SkjGEBtjJGKR",
        "outputId": "6a1c8705-0b6a-4a0c-f6d5-1e6b0ab1e5c0"
      },
      "source": [
        "plt.plot(range(epochs), losses)\r\n",
        "plt.ylabel('Loss')\r\n",
        "plt.xlabel('epoch')"
      ],
      "execution_count": 24,
      "outputs": [
        {
          "output_type": "execute_result",
          "data": {
            "text/plain": [
              "Text(0.5, 0, 'epoch')"
            ]
          },
          "metadata": {
            "tags": []
          },
          "execution_count": 24
        },
        {
          "output_type": "display_data",
          "data": {
            "image/png": "[encoded data removed]",
            "text/plain": [
              "<Figure size 432x288 with 1 Axes>"
            ]
          },
          "metadata": {
            "tags": [],
            "needs_background": "light"
          }
        }
      ]
    },
    {
      "cell_type": "code",
      "metadata": {
        "colab": {
          "base_uri": "https://localhost:8080/",
          "height": 265
        },
        "id": "bPMvFqqALpHv",
        "outputId": "dd0c83b7-89b6-4f4f-b9d2-1e80b394941c"
      },
      "source": [
        "plot_fit('Trained Model')"
      ],
      "execution_count": 25,
      "outputs": [
        {
          "output_type": "display_data",
          "data": {
            "image/png": "[encoded data removed]",
            "text/plain": [
              "<Figure size 432x288 with 1 Axes>"
            ]
          },
          "metadata": {
            "tags": [],
            "needs_background": "light"
          }
        }
      ]
    }
  ]
}