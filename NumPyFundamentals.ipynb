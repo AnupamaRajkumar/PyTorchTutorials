{
  "nbformat": 4,
  "nbformat_minor": 0,
  "metadata": {
    "colab": {
      "name": "NumPyFundamentals.ipynb",
      "provenance": [],
      "authorship_tag": "ABX9TyOyzMVIBKD47K1rs7OBGuKR",
      "include_colab_link": true
    },
    "kernelspec": {
      "name": "python3",
      "display_name": "Python 3"
    }
  },
  "cells": [
    {
      "cell_type": "markdown",
      "metadata": {
        "id": "view-in-github",
        "colab_type": "text"
      },
      "source": [
        "<a href=\"https://colab.research.google.com/github/AnupamaRajkumar/PyTorchTutorials/blob/main/NumPyFundamentals.ipynb\" target=\"_parent\"><img src=\"https://colab.research.google.com/assets/colab-badge.svg\" alt=\"Open In Colab\"/></a>"
      ]
    },
    {
      "cell_type": "markdown",
      "metadata": {
        "id": "QR-q3um8Kjvs"
      },
      "source": [
        "https://www.learnthepart.com/"
      ]
    },
    {
      "cell_type": "markdown",
      "metadata": {
        "id": "IPSbWRh784uC"
      },
      "source": [
        "Arrays vs List"
      ]
    },
    {
      "cell_type": "code",
      "metadata": {
        "id": "xEw8YQ6t8ja4"
      },
      "source": [
        "import numpy as np"
      ],
      "execution_count": 1,
      "outputs": []
    },
    {
      "cell_type": "markdown",
      "metadata": {
        "id": "ZpNZ9wHX9XdL"
      },
      "source": [
        "With python list"
      ]
    },
    {
      "cell_type": "code",
      "metadata": {
        "id": "H58oOXJ7KSyG",
        "colab": {
          "base_uri": "https://localhost:8080/"
        },
        "outputId": "fb513496-fd45-4556-f0b1-0d67f1a9517b"
      },
      "source": [
        "list_two = list(range(1, 4))\r\n",
        "list_three = list(range(1, 4))\r\n",
        "list_sum = []\r\n",
        "\r\n",
        "for index in range(3):\r\n",
        "  list_two[index] = list_two[index] ** 2\r\n",
        "  list_three[index] = list_three[index] ** 3\r\n",
        "  list_sum.append(list_two[index] + list_three[index])\r\n",
        "\r\n",
        "print(list_sum)\r\n"
      ],
      "execution_count": 5,
      "outputs": [
        {
          "output_type": "stream",
          "text": [
            "[2, 12, 36]\n"
          ],
          "name": "stdout"
        }
      ]
    },
    {
      "cell_type": "markdown",
      "metadata": {
        "id": "Z9KQKztu9aET"
      },
      "source": [
        "With numpy instead\\\r\n",
        "Range in list creates a list in the range and arange in array creates an array in range\\\r\n",
        "range -> list\\\r\n",
        "arange -> array"
      ]
    },
    {
      "cell_type": "code",
      "metadata": {
        "colab": {
          "base_uri": "https://localhost:8080/"
        },
        "id": "Dl81lY9y9cVp",
        "outputId": "ff859e32-0f37-4561-8a06-d0c264c71734"
      },
      "source": [
        "#array allows us to perform vectorised operations easily which is not possible with list\r\n",
        "array_two = np.arange(1, 4) ** 2\r\n",
        "array_three = np.arange(1, 4) ** 3\r\n",
        "#direct addition of lists would lead to lists being concatenated\r\n",
        "print(array_two + array_three)"
      ],
      "execution_count": 7,
      "outputs": [
        {
          "output_type": "stream",
          "text": [
            "[ 2 12 36]\n"
          ],
          "name": "stdout"
        }
      ]
    },
    {
      "cell_type": "markdown",
      "metadata": {
        "id": "LeFPCk0wC8oF"
      },
      "source": [
        "Common mathematical operations accessible through numpy"
      ]
    },
    {
      "cell_type": "code",
      "metadata": {
        "id": "_Fk8OVjJDvih"
      },
      "source": [
        "sample_array = np.array([1, 2, 3])"
      ],
      "execution_count": 12,
      "outputs": []
    },
    {
      "cell_type": "code",
      "metadata": {
        "colab": {
          "base_uri": "https://localhost:8080/"
        },
        "id": "-q0wreQA-ybL",
        "outputId": "ab4ede58-354a-4e37-c92c-55b5b635a761"
      },
      "source": [
        "np.power(sample_array, 4)\r\n",
        "#this can also be written as np.array([1, 2, 3]) ** 4"
      ],
      "execution_count": 13,
      "outputs": [
        {
          "output_type": "execute_result",
          "data": {
            "text/plain": [
              "array([ 1, 16, 81])"
            ]
          },
          "metadata": {
            "tags": []
          },
          "execution_count": 13
        }
      ]
    },
    {
      "cell_type": "code",
      "metadata": {
        "colab": {
          "base_uri": "https://localhost:8080/"
        },
        "id": "nJvD0tXaDlU3",
        "outputId": "31b1e717-1474-48a0-dce0-aa543a75b69c"
      },
      "source": [
        "print(np.negative(sample_array))"
      ],
      "execution_count": 15,
      "outputs": [
        {
          "output_type": "stream",
          "text": [
            "[-1 -2 -3]\n"
          ],
          "name": "stdout"
        }
      ]
    },
    {
      "cell_type": "code",
      "metadata": {
        "colab": {
          "base_uri": "https://localhost:8080/"
        },
        "id": "6ik061o4EBJd",
        "outputId": "6823f576-ce3d-4e0e-fbfc-38a76f614f5b"
      },
      "source": [
        "np.exp(sample_array)"
      ],
      "execution_count": 16,
      "outputs": [
        {
          "output_type": "execute_result",
          "data": {
            "text/plain": [
              "array([ 2.71828183,  7.3890561 , 20.08553692])"
            ]
          },
          "metadata": {
            "tags": []
          },
          "execution_count": 16
        }
      ]
    },
    {
      "cell_type": "code",
      "metadata": {
        "colab": {
          "base_uri": "https://localhost:8080/"
        },
        "id": "z8nD27iFEGPL",
        "outputId": "032ffebf-f490-4d07-b074-926a9f8b42a8"
      },
      "source": [
        "#natural log\r\n",
        "np.log(sample_array)"
      ],
      "execution_count": 17,
      "outputs": [
        {
          "output_type": "execute_result",
          "data": {
            "text/plain": [
              "array([0.        , 0.69314718, 1.09861229])"
            ]
          },
          "metadata": {
            "tags": []
          },
          "execution_count": 17
        }
      ]
    },
    {
      "cell_type": "markdown",
      "metadata": {
        "id": "524Tho-_EdT-"
      },
      "source": [
        "numpy arrays have more efficient memory consumption and are faster as compared to their python list counterparts"
      ]
    },
    {
      "cell_type": "code",
      "metadata": {
        "colab": {
          "base_uri": "https://localhost:8080/"
        },
        "id": "CYdZHycHEKf_",
        "outputId": "9492a29a-257a-4956-9408-20ea8e91ff31"
      },
      "source": [
        "np.sin(sample_array)"
      ],
      "execution_count": 18,
      "outputs": [
        {
          "output_type": "execute_result",
          "data": {
            "text/plain": [
              "array([0.84147098, 0.90929743, 0.14112001])"
            ]
          },
          "metadata": {
            "tags": []
          },
          "execution_count": 18
        }
      ]
    },
    {
      "cell_type": "markdown",
      "metadata": {
        "id": "wwpCTKErGTN7"
      },
      "source": [
        "#Multidimensional array\r\n",
        "An n-dimensional array is homogeneous ie each element in array with take same amount of space in memory"
      ]
    },
    {
      "cell_type": "code",
      "metadata": {
        "colab": {
          "base_uri": "https://localhost:8080/"
        },
        "id": "mqGKKkFOHhPs",
        "outputId": "deb3709a-9d06-48f0-f1f0-0ea54c7345ce"
      },
      "source": [
        "x = np.arange(0, 3)\r\n",
        "y = np.arange(3, 6)\r\n",
        "z = np.arange(6, 9)\r\n",
        "\r\n",
        "multi_array = np.array([x, y, z])\r\n",
        "print(multi_array)\r\n",
        "print(multi_array.shape)"
      ],
      "execution_count": 23,
      "outputs": [
        {
          "output_type": "stream",
          "text": [
            "[[0 1 2]\n",
            " [3 4 5]\n",
            " [6 7 8]]\n",
            "(3, 3)\n"
          ],
          "name": "stdout"
        }
      ]
    },
    {
      "cell_type": "code",
      "metadata": {
        "colab": {
          "base_uri": "https://localhost:8080/"
        },
        "id": "x6UtF1gJMiSm",
        "outputId": "187753be-1bcd-4a9e-9de8-1ff002d0bfaf"
      },
      "source": [
        "multi_array[1, 2]"
      ],
      "execution_count": 24,
      "outputs": [
        {
          "output_type": "execute_result",
          "data": {
            "text/plain": [
              "5"
            ]
          },
          "metadata": {
            "tags": []
          },
          "execution_count": 24
        }
      ]
    },
    {
      "cell_type": "code",
      "metadata": {
        "colab": {
          "base_uri": "https://localhost:8080/"
        },
        "id": "PSRZacaQLYHo",
        "outputId": "061726f6-fa8e-4ae1-9297-98f22f633ee4"
      },
      "source": [
        "#50 represents the number of equally spaced points between 1 and 10\r\n",
        "#If false value up to 10 not included\r\n",
        "w = np.linspace(1, 10, 50, False)\r\n",
        "print(w)"
      ],
      "execution_count": 22,
      "outputs": [
        {
          "output_type": "stream",
          "text": [
            "[1.   1.18 1.36 1.54 1.72 1.9  2.08 2.26 2.44 2.62 2.8  2.98 3.16 3.34\n",
            " 3.52 3.7  3.88 4.06 4.24 4.42 4.6  4.78 4.96 5.14 5.32 5.5  5.68 5.86\n",
            " 6.04 6.22 6.4  6.58 6.76 6.94 7.12 7.3  7.48 7.66 7.84 8.02 8.2  8.38\n",
            " 8.56 8.74 8.92 9.1  9.28 9.46 9.64 9.82]\n"
          ],
          "name": "stdout"
        }
      ]
    },
    {
      "cell_type": "code",
      "metadata": {
        "id": "cvdUtYUCLrZS"
      },
      "source": [
        "#3 represents stepsize\r\n",
        "w = np.arange(1, 30, 3)"
      ],
      "execution_count": null,
      "outputs": []
    },
    {
      "cell_type": "markdown",
      "metadata": {
        "id": "IMPUUtZi9aDH"
      },
      "source": [
        ""
      ]
    }
  ]
}