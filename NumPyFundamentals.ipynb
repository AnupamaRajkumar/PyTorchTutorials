{
  "nbformat": 4,
  "nbformat_minor": 0,
  "metadata": {
    "colab": {
      "name": "NumPyFundamentals.ipynb",
      "provenance": [],
      "authorship_tag": "ABX9TyMpHKNmL155GtL1RKQaWL96",
      "include_colab_link": true
    },
    "kernelspec": {
      "name": "python3",
      "display_name": "Python 3"
    }
  },
  "cells": [
    {
      "cell_type": "markdown",
      "metadata": {
        "id": "view-in-github",
        "colab_type": "text"
      },
      "source": [
        "<a href=\"https://colab.research.google.com/github/AnupamaRajkumar/PyTorchTutorials/blob/main/NumPyFundamentals.ipynb\" target=\"_parent\"><img src=\"https://colab.research.google.com/assets/colab-badge.svg\" alt=\"Open In Colab\"/></a>"
      ]
    },
    {
      "cell_type": "markdown",
      "metadata": {
        "id": "QR-q3um8Kjvs"
      },
      "source": [
        "https://www.learnthepart.com/"
      ]
    },
    {
      "cell_type": "markdown",
      "metadata": {
        "id": "IPSbWRh784uC"
      },
      "source": [
        "Arrays vs List"
      ]
    },
    {
      "cell_type": "code",
      "metadata": {
        "id": "xEw8YQ6t8ja4"
      },
      "source": [
        "import numpy as np"
      ],
      "execution_count": 2,
      "outputs": []
    },
    {
      "cell_type": "markdown",
      "metadata": {
        "id": "ZpNZ9wHX9XdL"
      },
      "source": [
        "With python list"
      ]
    },
    {
      "cell_type": "code",
      "metadata": {
        "id": "H58oOXJ7KSyG",
        "colab": {
          "base_uri": "https://localhost:8080/"
        },
        "outputId": "fb513496-fd45-4556-f0b1-0d67f1a9517b"
      },
      "source": [
        "list_two = list(range(1, 4))\r\n",
        "list_three = list(range(1, 4))\r\n",
        "list_sum = []\r\n",
        "\r\n",
        "for index in range(3):\r\n",
        "  list_two[index] = list_two[index] ** 2\r\n",
        "  list_three[index] = list_three[index] ** 3\r\n",
        "  list_sum.append(list_two[index] + list_three[index])\r\n",
        "\r\n",
        "print(list_sum)\r\n"
      ],
      "execution_count": null,
      "outputs": [
        {
          "output_type": "stream",
          "text": [
            "[2, 12, 36]\n"
          ],
          "name": "stdout"
        }
      ]
    },
    {
      "cell_type": "markdown",
      "metadata": {
        "id": "Z9KQKztu9aET"
      },
      "source": [
        "With numpy instead\\\r\n",
        "Range in list creates a list in the range and arange in array creates an array in range\\\r\n",
        "range -> list\\\r\n",
        "arange -> array"
      ]
    },
    {
      "cell_type": "code",
      "metadata": {
        "colab": {
          "base_uri": "https://localhost:8080/"
        },
        "id": "Dl81lY9y9cVp",
        "outputId": "ff859e32-0f37-4561-8a06-d0c264c71734"
      },
      "source": [
        "#array allows us to perform vectorised operations easily which is not possible with list\r\n",
        "array_two = np.arange(1, 4) ** 2\r\n",
        "array_three = np.arange(1, 4) ** 3\r\n",
        "#direct addition of lists would lead to lists being concatenated\r\n",
        "print(array_two + array_three)"
      ],
      "execution_count": null,
      "outputs": [
        {
          "output_type": "stream",
          "text": [
            "[ 2 12 36]\n"
          ],
          "name": "stdout"
        }
      ]
    },
    {
      "cell_type": "markdown",
      "metadata": {
        "id": "LeFPCk0wC8oF"
      },
      "source": [
        "Common mathematical operations accessible through numpy"
      ]
    },
    {
      "cell_type": "code",
      "metadata": {
        "id": "_Fk8OVjJDvih"
      },
      "source": [
        "sample_array = np.array([1, 2, 3])"
      ],
      "execution_count": null,
      "outputs": []
    },
    {
      "cell_type": "code",
      "metadata": {
        "colab": {
          "base_uri": "https://localhost:8080/"
        },
        "id": "-q0wreQA-ybL",
        "outputId": "ab4ede58-354a-4e37-c92c-55b5b635a761"
      },
      "source": [
        "np.power(sample_array, 4)\r\n",
        "#this can also be written as np.array([1, 2, 3]) ** 4"
      ],
      "execution_count": null,
      "outputs": [
        {
          "output_type": "execute_result",
          "data": {
            "text/plain": [
              "array([ 1, 16, 81])"
            ]
          },
          "metadata": {
            "tags": []
          },
          "execution_count": 13
        }
      ]
    },
    {
      "cell_type": "code",
      "metadata": {
        "colab": {
          "base_uri": "https://localhost:8080/"
        },
        "id": "nJvD0tXaDlU3",
        "outputId": "31b1e717-1474-48a0-dce0-aa543a75b69c"
      },
      "source": [
        "print(np.negative(sample_array))"
      ],
      "execution_count": null,
      "outputs": [
        {
          "output_type": "stream",
          "text": [
            "[-1 -2 -3]\n"
          ],
          "name": "stdout"
        }
      ]
    },
    {
      "cell_type": "code",
      "metadata": {
        "colab": {
          "base_uri": "https://localhost:8080/"
        },
        "id": "6ik061o4EBJd",
        "outputId": "6823f576-ce3d-4e0e-fbfc-38a76f614f5b"
      },
      "source": [
        "np.exp(sample_array)"
      ],
      "execution_count": null,
      "outputs": [
        {
          "output_type": "execute_result",
          "data": {
            "text/plain": [
              "array([ 2.71828183,  7.3890561 , 20.08553692])"
            ]
          },
          "metadata": {
            "tags": []
          },
          "execution_count": 16
        }
      ]
    },
    {
      "cell_type": "code",
      "metadata": {
        "colab": {
          "base_uri": "https://localhost:8080/"
        },
        "id": "z8nD27iFEGPL",
        "outputId": "032ffebf-f490-4d07-b074-926a9f8b42a8"
      },
      "source": [
        "#natural log\r\n",
        "np.log(sample_array)"
      ],
      "execution_count": null,
      "outputs": [
        {
          "output_type": "execute_result",
          "data": {
            "text/plain": [
              "array([0.        , 0.69314718, 1.09861229])"
            ]
          },
          "metadata": {
            "tags": []
          },
          "execution_count": 17
        }
      ]
    },
    {
      "cell_type": "markdown",
      "metadata": {
        "id": "524Tho-_EdT-"
      },
      "source": [
        "numpy arrays have more efficient memory consumption and are faster as compared to their python list counterparts"
      ]
    },
    {
      "cell_type": "code",
      "metadata": {
        "colab": {
          "base_uri": "https://localhost:8080/"
        },
        "id": "CYdZHycHEKf_",
        "outputId": "9492a29a-257a-4956-9408-20ea8e91ff31"
      },
      "source": [
        "np.sin(sample_array)"
      ],
      "execution_count": null,
      "outputs": [
        {
          "output_type": "execute_result",
          "data": {
            "text/plain": [
              "array([0.84147098, 0.90929743, 0.14112001])"
            ]
          },
          "metadata": {
            "tags": []
          },
          "execution_count": 18
        }
      ]
    },
    {
      "cell_type": "markdown",
      "metadata": {
        "id": "wwpCTKErGTN7"
      },
      "source": [
        "#Multidimensional array\r\n",
        "An n-dimensional array is homogeneous ie each element in array with take same amount of space in memory"
      ]
    },
    {
      "cell_type": "code",
      "metadata": {
        "colab": {
          "base_uri": "https://localhost:8080/"
        },
        "id": "mqGKKkFOHhPs",
        "outputId": "682f0f73-16bd-4a96-c6d3-7b829d1576a1"
      },
      "source": [
        "x = np.arange(0, 3)\r\n",
        "y = np.arange(3, 6)\r\n",
        "z = np.arange(6, 9)\r\n",
        "\r\n",
        "multi_array = np.array([x, y, z], dtype = np.int16)\r\n",
        "print(multi_array)\r\n",
        "print(multi_array.shape)\r\n",
        "print(multi_array.dtype)"
      ],
      "execution_count": null,
      "outputs": [
        {
          "output_type": "stream",
          "text": [
            "[[0 1 2]\n",
            " [3 4 5]\n",
            " [6 7 8]]\n",
            "(3, 3)\n",
            "int16\n"
          ],
          "name": "stdout"
        }
      ]
    },
    {
      "cell_type": "code",
      "metadata": {
        "colab": {
          "base_uri": "https://localhost:8080/"
        },
        "id": "x6UtF1gJMiSm",
        "outputId": "187753be-1bcd-4a9e-9de8-1ff002d0bfaf"
      },
      "source": [
        "multi_array[1, 2]"
      ],
      "execution_count": null,
      "outputs": [
        {
          "output_type": "execute_result",
          "data": {
            "text/plain": [
              "5"
            ]
          },
          "metadata": {
            "tags": []
          },
          "execution_count": 24
        }
      ]
    },
    {
      "cell_type": "code",
      "metadata": {
        "colab": {
          "base_uri": "https://localhost:8080/"
        },
        "id": "PSRZacaQLYHo",
        "outputId": "061726f6-fa8e-4ae1-9297-98f22f633ee4"
      },
      "source": [
        "#50 represents the number of equally spaced points between 1 and 10\r\n",
        "#If false value up to 10 not included\r\n",
        "w = np.linspace(1, 10, 50, False)\r\n",
        "print(w)"
      ],
      "execution_count": null,
      "outputs": [
        {
          "output_type": "stream",
          "text": [
            "[1.   1.18 1.36 1.54 1.72 1.9  2.08 2.26 2.44 2.62 2.8  2.98 3.16 3.34\n",
            " 3.52 3.7  3.88 4.06 4.24 4.42 4.6  4.78 4.96 5.14 5.32 5.5  5.68 5.86\n",
            " 6.04 6.22 6.4  6.58 6.76 6.94 7.12 7.3  7.48 7.66 7.84 8.02 8.2  8.38\n",
            " 8.56 8.74 8.92 9.1  9.28 9.46 9.64 9.82]\n"
          ],
          "name": "stdout"
        }
      ]
    },
    {
      "cell_type": "code",
      "metadata": {
        "id": "cvdUtYUCLrZS"
      },
      "source": [
        "#3 represents stepsize\r\n",
        "w = np.arange(1, 30, 3)"
      ],
      "execution_count": null,
      "outputs": []
    },
    {
      "cell_type": "markdown",
      "metadata": {
        "id": "DUmtiFPok5xr"
      },
      "source": [
        "One Dimensional Slicing\\\r\n",
        "[start stop step]\\\r\n",
        "start: start index from where we want to start slicing (include value at start index)\\\r\n",
        "stop: index till where we would like to slice (exclude value at stop index)\\\r\n",
        "step: spacing in between the sequence of values\r\n"
      ]
    },
    {
      "cell_type": "code",
      "metadata": {
        "colab": {
          "base_uri": "https://localhost:8080/"
        },
        "id": "GTUhALYjk8a2",
        "outputId": "c5a4d069-3e73-4ed1-b3f7-9081d87d1b8b"
      },
      "source": [
        "x = np.arange(1, 10)\r\n",
        "print(x)"
      ],
      "execution_count": 3,
      "outputs": [
        {
          "output_type": "stream",
          "text": [
            "[1 2 3 4 5 6 7 8 9]\n"
          ],
          "name": "stdout"
        }
      ]
    },
    {
      "cell_type": "code",
      "metadata": {
        "colab": {
          "base_uri": "https://localhost:8080/"
        },
        "id": "d2SLoDa3mllX",
        "outputId": "71deafa4-17f1-497a-cfac-32bd14bb0405"
      },
      "source": [
        "print(x[2:7])"
      ],
      "execution_count": 4,
      "outputs": [
        {
          "output_type": "stream",
          "text": [
            "[3 4 5 6 7]\n"
          ],
          "name": "stdout"
        }
      ]
    },
    {
      "cell_type": "markdown",
      "metadata": {
        "id": "tgsBtrsMoTbb"
      },
      "source": [
        "Print every second number"
      ]
    },
    {
      "cell_type": "code",
      "metadata": {
        "colab": {
          "base_uri": "https://localhost:8080/"
        },
        "id": "rxVYPN_JoPHu",
        "outputId": "76fdec96-c850-4896-c402-18335f7a1d9b"
      },
      "source": [
        "print(x[2:7:2])"
      ],
      "execution_count": 5,
      "outputs": [
        {
          "output_type": "stream",
          "text": [
            "[3 5 7]\n"
          ],
          "name": "stdout"
        }
      ]
    },
    {
      "cell_type": "code",
      "metadata": {
        "colab": {
          "base_uri": "https://localhost:8080/"
        },
        "id": "rWskTXmzos_W",
        "outputId": "78a6194a-65a8-472d-e114-018225d8bd73"
      },
      "source": [
        "print(x[:7])"
      ],
      "execution_count": 6,
      "outputs": [
        {
          "output_type": "stream",
          "text": [
            "[1 2 3 4 5 6 7]\n"
          ],
          "name": "stdout"
        }
      ]
    },
    {
      "cell_type": "code",
      "metadata": {
        "colab": {
          "base_uri": "https://localhost:8080/"
        },
        "id": "4MBRiFGJo0Gs",
        "outputId": "44e43406-ed21-4158-cbaf-92e71188e0cb"
      },
      "source": [
        "print(x[2:])"
      ],
      "execution_count": 7,
      "outputs": [
        {
          "output_type": "stream",
          "text": [
            "[3 4 5 6 7 8 9]\n"
          ],
          "name": "stdout"
        }
      ]
    },
    {
      "cell_type": "markdown",
      "metadata": {
        "id": "obbAJ3tvpw0I"
      },
      "source": [
        "Reshaping"
      ]
    },
    {
      "cell_type": "code",
      "metadata": {
        "colab": {
          "base_uri": "https://localhost:8080/"
        },
        "id": "mOdvfG-1pyx0",
        "outputId": "8cd29d68-9735-4cee-f0e8-eef704aed9c0"
      },
      "source": [
        "print(x.reshape(3, 3))\r\n",
        "#this means that reshaping doesnt alter the original structure of x\r\n",
        "print(x)"
      ],
      "execution_count": 12,
      "outputs": [
        {
          "output_type": "stream",
          "text": [
            "[[1 2 3]\n",
            " [4 5 6]\n",
            " [7 8 9]]\n",
            "[1 2 3 4 5 6 7 8 9]\n"
          ],
          "name": "stdout"
        }
      ]
    },
    {
      "cell_type": "code",
      "metadata": {
        "colab": {
          "base_uri": "https://localhost:8080/"
        },
        "id": "llvj-YGKq9IX",
        "outputId": "758bf2e2-dc8f-4685-c2ad-b01287c01271"
      },
      "source": [
        "print(x.reshape(-1, 3))"
      ],
      "execution_count": 16,
      "outputs": [
        {
          "output_type": "stream",
          "text": [
            "[[1 2 3]\n",
            " [4 5 6]\n",
            " [7 8 9]]\n"
          ],
          "name": "stdout"
        }
      ]
    },
    {
      "cell_type": "code",
      "metadata": {
        "colab": {
          "base_uri": "https://localhost:8080/"
        },
        "id": "ToHv3HOTrL2M",
        "outputId": "3b81773f-e157-46e0-a86e-902a33301940"
      },
      "source": [
        "print(x.reshape(3, -1))"
      ],
      "execution_count": 17,
      "outputs": [
        {
          "output_type": "stream",
          "text": [
            "[[1 2 3]\n",
            " [4 5 6]\n",
            " [7 8 9]]\n"
          ],
          "name": "stdout"
        }
      ]
    },
    {
      "cell_type": "code",
      "metadata": {
        "colab": {
          "base_uri": "https://localhost:8080/"
        },
        "id": "6rvGmIXT12De",
        "outputId": "b93660e1-ab5a-4f2e-8197-3e83dfcb97ad"
      },
      "source": [
        "y = np.arange(18).reshape(2, 3, -1)\r\n",
        "print(y)"
      ],
      "execution_count": 25,
      "outputs": [
        {
          "output_type": "stream",
          "text": [
            "[[[ 0  1  2]\n",
            "  [ 3  4  5]\n",
            "  [ 6  7  8]]\n",
            "\n",
            " [[ 9 10 11]\n",
            "  [12 13 14]\n",
            "  [15 16 17]]]\n"
          ],
          "name": "stdout"
        }
      ]
    },
    {
      "cell_type": "markdown",
      "metadata": {
        "id": "y3upPZH_q3kt"
      },
      "source": [
        "Multidimensional Slicing"
      ]
    },
    {
      "cell_type": "code",
      "metadata": {
        "colab": {
          "base_uri": "https://localhost:8080/"
        },
        "id": "JFZRhcvE2Mhd",
        "outputId": "29d16f24-6a1f-4ee9-adca-b8f0723bcc93"
      },
      "source": [
        "#accessing element from an array\r\n",
        "print(y[1][2][0])\r\n",
        "\r\n",
        "#slicing arrays\r\n",
        "print(y[1])"
      ],
      "execution_count": 26,
      "outputs": [
        {
          "output_type": "stream",
          "text": [
            "15\n",
            "[[ 9 10 11]\n",
            " [12 13 14]\n",
            " [15 16 17]]\n"
          ],
          "name": "stdout"
        }
      ]
    },
    {
      "cell_type": "code",
      "metadata": {
        "colab": {
          "base_uri": "https://localhost:8080/"
        },
        "id": "KWq369884GFn",
        "outputId": "3dcfbaa5-cab6-46d6-afb1-f11dd3cc75bf"
      },
      "source": [
        "print(y[1][:2][:2])"
      ],
      "execution_count": 28,
      "outputs": [
        {
          "output_type": "stream",
          "text": [
            "[[ 9 10 11]\n",
            " [12 13 14]]\n"
          ],
          "name": "stdout"
        }
      ]
    },
    {
      "cell_type": "code",
      "metadata": {
        "colab": {
          "base_uri": "https://localhost:8080/"
        },
        "id": "8Db8immr7OLa",
        "outputId": "d0f6af1d-8058-454d-9d05-1136fb73a9f2"
      },
      "source": [
        "print(y[1, ...])"
      ],
      "execution_count": 29,
      "outputs": [
        {
          "output_type": "stream",
          "text": [
            "[[ 9 10 11]\n",
            " [12 13 14]\n",
            " [15 16 17]]\n"
          ],
          "name": "stdout"
        }
      ]
    },
    {
      "cell_type": "code",
      "metadata": {
        "colab": {
          "base_uri": "https://localhost:8080/"
        },
        "id": "bca6Pd5C7aJL",
        "outputId": "c43048fc-069f-416d-97e5-d6b9ef3809f5"
      },
      "source": [
        "print(y[:])"
      ],
      "execution_count": 30,
      "outputs": [
        {
          "output_type": "stream",
          "text": [
            "[[[ 0  1  2]\n",
            "  [ 3  4  5]\n",
            "  [ 6  7  8]]\n",
            "\n",
            " [[ 9 10 11]\n",
            "  [12 13 14]\n",
            "  [15 16 17]]]\n"
          ],
          "name": "stdout"
        }
      ]
    },
    {
      "cell_type": "code",
      "metadata": {
        "colab": {
          "base_uri": "https://localhost:8080/"
        },
        "id": "07r5tdtM7gLa",
        "outputId": "76cd15a5-b49b-4323-e67d-2a160f1776a5"
      },
      "source": [
        "print(y[:, 0, 0])\r\n",
        "#:2 in the end with :3 is the step size, ie. pick every second element\r\n",
        "print(y[:, :2, :3:2])"
      ],
      "execution_count": 38,
      "outputs": [
        {
          "output_type": "stream",
          "text": [
            "[0 9]\n",
            "[[[ 0  2]\n",
            "  [ 3  5]]\n",
            "\n",
            " [[ 9 11]\n",
            "  [12 14]]]\n"
          ],
          "name": "stdout"
        }
      ]
    },
    {
      "cell_type": "markdown",
      "metadata": {
        "id": "s8UnXkEW_WdO"
      },
      "source": [
        "Conditional Selection with Bools"
      ]
    },
    {
      "cell_type": "code",
      "metadata": {
        "colab": {
          "base_uri": "https://localhost:8080/"
        },
        "id": "X635V_PV_Zbr",
        "outputId": "b299bd59-5379-449d-9db2-c45a16cc7ac9"
      },
      "source": [
        "comparison_op = y > 5\r\n",
        "print(comparison_op)"
      ],
      "execution_count": 40,
      "outputs": [
        {
          "output_type": "stream",
          "text": [
            "[[[False False False]\n",
            "  [False False False]\n",
            "  [ True  True  True]]\n",
            "\n",
            " [[ True  True  True]\n",
            "  [ True  True  True]\n",
            "  [ True  True  True]]]\n"
          ],
          "name": "stdout"
        }
      ]
    },
    {
      "cell_type": "code",
      "metadata": {
        "colab": {
          "base_uri": "https://localhost:8080/"
        },
        "id": "_gHe-kXY_i4G",
        "outputId": "cf670bd8-0063-491b-ebe2-12cf19a6d8ce"
      },
      "source": [
        "#return all elements that satisfy the conditional operation\r\n",
        "y[comparison_op]"
      ],
      "execution_count": 42,
      "outputs": [
        {
          "output_type": "execute_result",
          "data": {
            "text/plain": [
              "array([ 6,  7,  8,  9, 10, 11, 12, 13, 14, 15, 16, 17])"
            ]
          },
          "metadata": {
            "tags": []
          },
          "execution_count": 42
        }
      ]
    },
    {
      "cell_type": "code",
      "metadata": {
        "colab": {
          "base_uri": "https://localhost:8080/"
        },
        "id": "Fc8Zh6DN_xyi",
        "outputId": "221d8ad1-a433-49c0-b25c-4707cbef789a"
      },
      "source": [
        "#more elegant way of writing conditional operator\r\n",
        "y[y > 5]"
      ],
      "execution_count": 43,
      "outputs": [
        {
          "output_type": "execute_result",
          "data": {
            "text/plain": [
              "array([ 6,  7,  8,  9, 10, 11, 12, 13, 14, 15, 16, 17])"
            ]
          },
          "metadata": {
            "tags": []
          },
          "execution_count": 43
        }
      ]
    },
    {
      "cell_type": "code",
      "metadata": {
        "colab": {
          "base_uri": "https://localhost:8080/"
        },
        "id": "PGlvCeic_8Qs",
        "outputId": "5287e51f-2f8d-4967-f5a3-b0f9264dbe58"
      },
      "source": [
        "#max value\r\n",
        "print(y.max())\r\n",
        "#min value\r\n",
        "print(y.min())"
      ],
      "execution_count": 45,
      "outputs": [
        {
          "output_type": "stream",
          "text": [
            "17\n",
            "0\n"
          ],
          "name": "stdout"
        }
      ]
    },
    {
      "cell_type": "markdown",
      "metadata": {
        "id": "g2SgVYF4AKAZ"
      },
      "source": [
        "Manipulating array shapes"
      ]
    },
    {
      "cell_type": "code",
      "metadata": {
        "colab": {
          "base_uri": "https://localhost:8080/"
        },
        "id": "rkMITCHrAM5s",
        "outputId": "628deff5-566f-4f82-9e10-3b460eb35118"
      },
      "source": [
        "y1 = np.arange(9).reshape(3, 3)\r\n",
        "print(y1)"
      ],
      "execution_count": 49,
      "outputs": [
        {
          "output_type": "stream",
          "text": [
            "[[0 1 2]\n",
            " [3 4 5]\n",
            " [6 7 8]]\n"
          ],
          "name": "stdout"
        }
      ]
    },
    {
      "cell_type": "markdown",
      "metadata": {
        "id": "QOL4S9cGAi0t"
      },
      "source": [
        "Flatten a multidimensional array using ravel and flatten\\\r\n",
        "Difference between ravel and flatten:\\\r\n",
        "ravel : returns view of the array being flattened\\\r\n",
        "flatten: creates a flattened copy of the array being flattened"
      ]
    },
    {
      "cell_type": "code",
      "metadata": {
        "colab": {
          "base_uri": "https://localhost:8080/"
        },
        "id": "T820LX2ZAabu",
        "outputId": "8b1efe3d-5c5c-4905-8102-184796e20880"
      },
      "source": [
        "ravelled_array = y1.ravel()\r\n",
        "ravelled_array[2] = 1000\r\n",
        "#here, change in ravelled array also gets reflected in the original array as \r\n",
        "#ravel does not create a copy but works on the original array\r\n",
        "print(ravelled_array)\r\n",
        "print(y1)"
      ],
      "execution_count": 53,
      "outputs": [
        {
          "output_type": "stream",
          "text": [
            "[   0    1 1000    3    4    5    6    7    8]\n",
            "[[   0    1 1000]\n",
            " [   3    4    5]\n",
            " [   6    7    8]]\n"
          ],
          "name": "stdout"
        }
      ]
    },
    {
      "cell_type": "code",
      "metadata": {
        "colab": {
          "base_uri": "https://localhost:8080/"
        },
        "id": "9ymVrOavAn3F",
        "outputId": "c5c8e800-82f0-490a-f6e1-eaa6b69373b8"
      },
      "source": [
        "flattened_array = y1.flatten()\r\n",
        "flattened_array[3] = 500\r\n",
        "#here, modifying flattened array does not modify the original array as the oper-\r\n",
        "#ation is performed on copy rather than the original\r\n",
        "print(flattened_array)\r\n",
        "print(y1)"
      ],
      "execution_count": 54,
      "outputs": [
        {
          "output_type": "stream",
          "text": [
            "[   0    1 1000  500    4    5    6    7    8]\n",
            "[[   0    1 1000]\n",
            " [   3    4    5]\n",
            " [   6    7    8]]\n"
          ],
          "name": "stdout"
        }
      ]
    },
    {
      "cell_type": "code",
      "metadata": {
        "colab": {
          "base_uri": "https://localhost:8080/"
        },
        "id": "vG4eS4uPB9_0",
        "outputId": "e309853d-df09-48a8-d386-671c7bb148cb"
      },
      "source": [
        "y2 = np.arange(9)\r\n",
        "y2.shape = [3, 3]\r\n",
        "print(y2)\r\n",
        "#transpose\r\n",
        "print(y2.transpose())\r\n",
        "#another method\r\n",
        "print(y2.T)"
      ],
      "execution_count": 58,
      "outputs": [
        {
          "output_type": "stream",
          "text": [
            "[[0 1 2]\n",
            " [3 4 5]\n",
            " [6 7 8]]\n",
            "[[0 3 6]\n",
            " [1 4 7]\n",
            " [2 5 8]]\n",
            "[[0 3 6]\n",
            " [1 4 7]\n",
            " [2 5 8]]\n"
          ],
          "name": "stdout"
        }
      ]
    },
    {
      "cell_type": "code",
      "metadata": {
        "colab": {
          "base_uri": "https://localhost:8080/"
        },
        "id": "WXAm_YnUCRI5",
        "outputId": "6ff7e17d-5f87-4bac-8959-589e65c57ab7"
      },
      "source": [
        "#if the resized size is bigger than the original size, the array is filled with \r\n",
        "#copies of element of original array\r\n",
        "print(np.resize(y2, (6, 6)))"
      ],
      "execution_count": 61,
      "outputs": [
        {
          "output_type": "stream",
          "text": [
            "[[0 1 2 3 4 5]\n",
            " [6 7 8 0 1 2]\n",
            " [3 4 5 6 7 8]\n",
            " [0 1 2 3 4 5]\n",
            " [6 7 8 0 1 2]\n",
            " [3 4 5 6 7 8]]\n"
          ],
          "name": "stdout"
        }
      ]
    },
    {
      "cell_type": "code",
      "metadata": {
        "colab": {
          "base_uri": "https://localhost:8080/"
        },
        "id": "HPtisPirCxDs",
        "outputId": "6dfb8063-bfbc-4afe-bd85-413b29a6c597"
      },
      "source": [
        "#default type is float64\r\n",
        "np.zeros((6,))"
      ],
      "execution_count": 62,
      "outputs": [
        {
          "output_type": "execute_result",
          "data": {
            "text/plain": [
              "array([0., 0., 0., 0., 0., 0.])"
            ]
          },
          "metadata": {
            "tags": []
          },
          "execution_count": 62
        }
      ]
    },
    {
      "cell_type": "code",
      "metadata": {
        "colab": {
          "base_uri": "https://localhost:8080/"
        },
        "id": "6RuvFNg9C8sY",
        "outputId": "a872ca67-d9b2-438f-97f1-61744a93aa0f"
      },
      "source": [
        "np.zeros((3,2), dtype=int)"
      ],
      "execution_count": 64,
      "outputs": [
        {
          "output_type": "execute_result",
          "data": {
            "text/plain": [
              "array([[0, 0],\n",
              "       [0, 0],\n",
              "       [0, 0]])"
            ]
          },
          "metadata": {
            "tags": []
          },
          "execution_count": 64
        }
      ]
    },
    {
      "cell_type": "code",
      "metadata": {
        "colab": {
          "base_uri": "https://localhost:8080/"
        },
        "id": "mOcoy3tlDF38",
        "outputId": "831d5e8c-ec44-495c-b10a-bb4727742fb6"
      },
      "source": [
        "np.ones((3,2), dtype=int)"
      ],
      "execution_count": 65,
      "outputs": [
        {
          "output_type": "execute_result",
          "data": {
            "text/plain": [
              "array([[1, 1],\n",
              "       [1, 1],\n",
              "       [1, 1]])"
            ]
          },
          "metadata": {
            "tags": []
          },
          "execution_count": 65
        }
      ]
    },
    {
      "cell_type": "code",
      "metadata": {
        "colab": {
          "base_uri": "https://localhost:8080/"
        },
        "id": "xwAIkj6eDL0W",
        "outputId": "42a25b40-1a6d-4ab1-865b-842d4821a879"
      },
      "source": [
        "print(np.eye(3))"
      ],
      "execution_count": 66,
      "outputs": [
        {
          "output_type": "stream",
          "text": [
            "[[1. 0. 0.]\n",
            " [0. 1. 0.]\n",
            " [0. 0. 1.]]\n"
          ],
          "name": "stdout"
        }
      ]
    },
    {
      "cell_type": "code",
      "metadata": {
        "colab": {
          "base_uri": "https://localhost:8080/"
        },
        "id": "HcVyZvh4DQv0",
        "outputId": "bd064e74-f2e2-4ca1-c7d6-abe7a059f850"
      },
      "source": [
        "#random samples from uniform distribution containing values from 0 to 1\r\n",
        "np.random.rand(3, 3)"
      ],
      "execution_count": 68,
      "outputs": [
        {
          "output_type": "execute_result",
          "data": {
            "text/plain": [
              "array([[0.35162434, 0.43693107, 0.36165005],\n",
              "       [0.03087672, 0.5573476 , 0.52499195],\n",
              "       [0.93440353, 0.067518  , 0.90056916]])"
            ]
          },
          "metadata": {
            "tags": []
          },
          "execution_count": 68
        }
      ]
    },
    {
      "cell_type": "markdown",
      "metadata": {
        "id": "yWwYXjroEmey"
      },
      "source": [
        "Matrix Multiplication"
      ]
    },
    {
      "cell_type": "code",
      "metadata": {
        "colab": {
          "base_uri": "https://localhost:8080/"
        },
        "id": "f_ZEDkQ2FPQE",
        "outputId": "74974501-0a31-4710-8ed9-f90fa049310f"
      },
      "source": [
        "mat_A = np.matrix([0, 3, 5, 5, 5, 2]).reshape(2, 3)\r\n",
        "mat_A"
      ],
      "execution_count": 70,
      "outputs": [
        {
          "output_type": "execute_result",
          "data": {
            "text/plain": [
              "matrix([[0, 3, 5],\n",
              "        [5, 5, 2]])"
            ]
          },
          "metadata": {
            "tags": []
          },
          "execution_count": 70
        }
      ]
    },
    {
      "cell_type": "code",
      "metadata": {
        "colab": {
          "base_uri": "https://localhost:8080/"
        },
        "id": "peBtS3S0FU72",
        "outputId": "1c58c092-53aa-48b2-cb71-b548f14d2bc8"
      },
      "source": [
        "mat_B = np.matrix([3, 4, 3, -2, 4, -2]).reshape(3, 2)\r\n",
        "mat_B"
      ],
      "execution_count": 71,
      "outputs": [
        {
          "output_type": "execute_result",
          "data": {
            "text/plain": [
              "matrix([[ 3,  4],\n",
              "        [ 3, -2],\n",
              "        [ 4, -2]])"
            ]
          },
          "metadata": {
            "tags": []
          },
          "execution_count": 71
        }
      ]
    },
    {
      "cell_type": "code",
      "metadata": {
        "colab": {
          "base_uri": "https://localhost:8080/"
        },
        "id": "_0fjUYQPFc7o",
        "outputId": "de13a5f6-d332-4215-c4b5-8b0802f0779e"
      },
      "source": [
        "mat_A*mat_B"
      ],
      "execution_count": 72,
      "outputs": [
        {
          "output_type": "execute_result",
          "data": {
            "text/plain": [
              "matrix([[ 29, -16],\n",
              "        [ 38,   6]])"
            ]
          },
          "metadata": {
            "tags": []
          },
          "execution_count": 72
        }
      ]
    },
    {
      "cell_type": "code",
      "metadata": {
        "colab": {
          "base_uri": "https://localhost:8080/"
        },
        "id": "RHT_CxpaFgfq",
        "outputId": "29d1017a-61ad-4d5b-eb35-651270265a9a"
      },
      "source": [
        "product = np.matmul(mat_A, mat_B)\r\n",
        "product"
      ],
      "execution_count": 73,
      "outputs": [
        {
          "output_type": "execute_result",
          "data": {
            "text/plain": [
              "matrix([[ 29, -16],\n",
              "        [ 38,   6]])"
            ]
          },
          "metadata": {
            "tags": []
          },
          "execution_count": 73
        }
      ]
    },
    {
      "cell_type": "code",
      "metadata": {
        "colab": {
          "base_uri": "https://localhost:8080/"
        },
        "id": "0TgA7J-eFse5",
        "outputId": "9eb5b08f-7b52-4f22-d399-a56c3276bb40"
      },
      "source": [
        "mat_A @ mat_B"
      ],
      "execution_count": 74,
      "outputs": [
        {
          "output_type": "execute_result",
          "data": {
            "text/plain": [
              "matrix([[ 29, -16],\n",
              "        [ 38,   6]])"
            ]
          },
          "metadata": {
            "tags": []
          },
          "execution_count": 74
        }
      ]
    },
    {
      "cell_type": "markdown",
      "metadata": {
        "id": "IMPUUtZi9aDH"
      },
      "source": [
        "Stacking"
      ]
    },
    {
      "cell_type": "code",
      "metadata": {
        "colab": {
          "base_uri": "https://localhost:8080/"
        },
        "id": "_IT9IVWwFylt",
        "outputId": "cef0d0a0-5565-4fe7-e761-fd549272d826"
      },
      "source": [
        "#hstack : horizontal, columnwise sequence stacking\r\n",
        "x_ = np.arange(4).reshape(2, 2)\r\n",
        "print(x_)"
      ],
      "execution_count": 109,
      "outputs": [
        {
          "output_type": "stream",
          "text": [
            "[[0 1]\n",
            " [2 3]]\n"
          ],
          "name": "stdout"
        }
      ]
    },
    {
      "cell_type": "code",
      "metadata": {
        "colab": {
          "base_uri": "https://localhost:8080/"
        },
        "id": "BEZleLEnGB6Z",
        "outputId": "6d4a8283-04df-4fc0-96c6-cc6040a8e5f1"
      },
      "source": [
        "y_ = np.arange(4, 8).reshape(2, 2)\r\n",
        "print(y_)"
      ],
      "execution_count": 110,
      "outputs": [
        {
          "output_type": "stream",
          "text": [
            "[[4 5]\n",
            " [6 7]]\n"
          ],
          "name": "stdout"
        }
      ]
    },
    {
      "cell_type": "code",
      "metadata": {
        "colab": {
          "base_uri": "https://localhost:8080/"
        },
        "id": "5yQLNZT2GPH9",
        "outputId": "54ff32b7-7509-4d65-e441-dfecc1f6067f"
      },
      "source": [
        "#arrays being stacked should have same dims of elements along all expect the last\r\n",
        "#axis. hstack concatenates along the second dimension\r\n",
        "z_h = np.hstack((x_, y_))\r\n",
        "print(z_h)"
      ],
      "execution_count": 111,
      "outputs": [
        {
          "output_type": "stream",
          "text": [
            "[[0 1 4 5]\n",
            " [2 3 6 7]]\n"
          ],
          "name": "stdout"
        }
      ]
    },
    {
      "cell_type": "code",
      "metadata": {
        "colab": {
          "base_uri": "https://localhost:8080/"
        },
        "id": "A83A1Jy6Gsr5",
        "outputId": "cf4264ba-1b4f-4ee4-b5c0-6298dfe32712"
      },
      "source": [
        "#vtsack : vertical, rowwise sequence stacking\r\n",
        "z_v = np.vstack((x_, y_))\r\n",
        "print(z_v)"
      ],
      "execution_count": 112,
      "outputs": [
        {
          "output_type": "stream",
          "text": [
            "[[0 1]\n",
            " [2 3]\n",
            " [4 5]\n",
            " [6 7]]\n"
          ],
          "name": "stdout"
        }
      ]
    },
    {
      "cell_type": "code",
      "metadata": {
        "colab": {
          "base_uri": "https://localhost:8080/"
        },
        "id": "IDRQMyjWHqTX",
        "outputId": "872af2c1-1c51-4477-e6e5-d78b9e69abd5"
      },
      "source": [
        "#axis = 0, concatenation along vertical axis\r\n",
        "#axis = 1, concatenation along horizontal axis\r\n",
        "w_v = np.concatenate((x_, y_), axis = 0)\r\n",
        "print(w_v)\r\n",
        "\r\n",
        "w_h = np.concatenate((x_, y_), axis = 1)\r\n",
        "print(w_h)"
      ],
      "execution_count": 113,
      "outputs": [
        {
          "output_type": "stream",
          "text": [
            "[[0 1]\n",
            " [2 3]\n",
            " [4 5]\n",
            " [6 7]]\n",
            "[[0 1 4 5]\n",
            " [2 3 6 7]]\n"
          ],
          "name": "stdout"
        }
      ]
    },
    {
      "cell_type": "code",
      "metadata": {
        "colab": {
          "base_uri": "https://localhost:8080/"
        },
        "id": "Ibjah7gzIL09",
        "outputId": "15bde876-3e0c-4702-9e7d-318501c626ac"
      },
      "source": [
        "#concatenation along axis = 1 and hstack are equivalent operations\r\n",
        "print(z_h == w_h)"
      ],
      "execution_count": 114,
      "outputs": [
        {
          "output_type": "stream",
          "text": [
            "[[ True  True  True  True]\n",
            " [ True  True  True  True]]\n"
          ],
          "name": "stdout"
        }
      ]
    },
    {
      "cell_type": "code",
      "metadata": {
        "colab": {
          "base_uri": "https://localhost:8080/"
        },
        "id": "uRgborl4Ir5i",
        "outputId": "84ed52c7-bc20-43bc-bbc8-af8d7f6840b5"
      },
      "source": [
        "#concatenation along axis = 0 and vstack are equivalent operations\r\n",
        "#this also shows that arrays can be compared with ==\r\n",
        "print(z_v == w_v)"
      ],
      "execution_count": 92,
      "outputs": [
        {
          "output_type": "stream",
          "text": [
            "[[ True  True]\n",
            " [ True  True]\n",
            " [ True  True]\n",
            " [ True  True]]\n"
          ],
          "name": "stdout"
        }
      ]
    },
    {
      "cell_type": "markdown",
      "metadata": {
        "id": "DF-5evmPLZ7p"
      },
      "source": [
        "Depth stacking"
      ]
    },
    {
      "cell_type": "code",
      "metadata": {
        "colab": {
          "base_uri": "https://localhost:8080/"
        },
        "id": "SyLlwy5PLbSH",
        "outputId": "76fe0e72-724d-457f-dad5-6442a4878981"
      },
      "source": [
        "#here, since x_ and y_ have a 2 x 2 shape, it intuitively adds a third dimension\r\n",
        "#of size 1\r\n",
        "x_1 = x_.reshape(2, 2, 1)\r\n",
        "print(x_1)\r\n",
        "y_1 = y_.reshape(2, 2, 1)\r\n",
        "print(y_1)\r\n",
        "depth_stack = np.dstack((x_1, y_1))\r\n",
        "print(depth_stack)"
      ],
      "execution_count": 115,
      "outputs": [
        {
          "output_type": "stream",
          "text": [
            "[[[0]\n",
            "  [1]]\n",
            "\n",
            " [[2]\n",
            "  [3]]]\n",
            "[[[4]\n",
            "  [5]]\n",
            "\n",
            " [[6]\n",
            "  [7]]]\n",
            "[[[0 4]\n",
            "  [1 5]]\n",
            "\n",
            " [[2 6]\n",
            "  [3 7]]]\n"
          ],
          "name": "stdout"
        }
      ]
    },
    {
      "cell_type": "code",
      "metadata": {
        "colab": {
          "base_uri": "https://localhost:8080/"
        },
        "id": "W8N2NNC6MBb0",
        "outputId": "04fb8135-16ac-4586-d586-8359999c2368"
      },
      "source": [
        "print(depth_stack.shape)"
      ],
      "execution_count": 116,
      "outputs": [
        {
          "output_type": "stream",
          "text": [
            "(2, 2, 2)\n"
          ],
          "name": "stdout"
        }
      ]
    },
    {
      "cell_type": "code",
      "metadata": {
        "colab": {
          "base_uri": "https://localhost:8080/"
        },
        "id": "p6mqpD6sNeRe",
        "outputId": "6de7b644-4b25-4abc-f77b-a3a879476671"
      },
      "source": [
        "print(np.column_stack((x_, y_)))"
      ],
      "execution_count": 117,
      "outputs": [
        {
          "output_type": "stream",
          "text": [
            "[[0 1 4 5]\n",
            " [2 3 6 7]]\n"
          ],
          "name": "stdout"
        }
      ]
    },
    {
      "cell_type": "code",
      "metadata": {
        "colab": {
          "base_uri": "https://localhost:8080/"
        },
        "id": "3LO6i7GhOX-b",
        "outputId": "a51318c1-eafb-45a9-d306-b4081e67e1d6"
      },
      "source": [
        "print(np.hstack((x_, y_)))"
      ],
      "execution_count": 118,
      "outputs": [
        {
          "output_type": "stream",
          "text": [
            "[[0 1 4 5]\n",
            " [2 3 6 7]]\n"
          ],
          "name": "stdout"
        }
      ]
    },
    {
      "cell_type": "code",
      "metadata": {
        "colab": {
          "base_uri": "https://localhost:8080/"
        },
        "id": "zIZKxwsEOvD2",
        "outputId": "4ab2f06c-1cb7-40cb-c6a2-e70bdd490fb5"
      },
      "source": [
        "print(np.column_stack((x_, y_)) == np.hstack((x_, y_)))"
      ],
      "execution_count": 119,
      "outputs": [
        {
          "output_type": "stream",
          "text": [
            "[[ True  True  True  True]\n",
            " [ True  True  True  True]]\n"
          ],
          "name": "stdout"
        }
      ]
    },
    {
      "cell_type": "code",
      "metadata": {
        "colab": {
          "base_uri": "https://localhost:8080/"
        },
        "id": "t-OTza-6O7c0",
        "outputId": "7e4a9e69-7581-4096-d85c-8a95e0de822c"
      },
      "source": [
        "print(np.row_stack((x_, y_)))"
      ],
      "execution_count": 120,
      "outputs": [
        {
          "output_type": "stream",
          "text": [
            "[[0 1]\n",
            " [2 3]\n",
            " [4 5]\n",
            " [6 7]]\n"
          ],
          "name": "stdout"
        }
      ]
    }
  ]
}